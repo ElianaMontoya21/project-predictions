{
  "nbformat": 4,
  "nbformat_minor": 0,
  "metadata": {
    "colab": {
      "provenance": [],
      "authorship_tag": "ABX9TyPznHp8YuB0Bl1Dy/jvgC0+",
      "include_colab_link": true
    },
    "kernelspec": {
      "name": "python3",
      "display_name": "Python 3"
    },
    "language_info": {
      "name": "python"
    }
  },
  "cells": [
    {
      "cell_type": "markdown",
      "metadata": {
        "id": "view-in-github",
        "colab_type": "text"
      },
      "source": [
        "<a href=\"https://colab.research.google.com/github/ElianaMontoya21/project-predictions/blob/main/Metro_Interstate_Traffic_Volume_.ipynb\" target=\"_parent\"><img src=\"https://colab.research.google.com/assets/colab-badge.svg\" alt=\"Open In Colab\"/></a>"
      ]
    },
    {
      "cell_type": "code",
      "execution_count": null,
      "metadata": {
        "id": "JPhAnwVpX-fh"
      },
      "outputs": [],
      "source": [
        "# imports\n",
        "import pandas as pd\n",
        "import numpy as np\n",
        "from sklearn.preprocessing import StandardScaler, OneHotEncoder\n",
        "from sklearn.impute import SimpleImputer\n",
        "from sklearn.compose import make_column_transformer, make_column_selector\n",
        "from sklearn.pipeline import make_pipeline\n",
        "from sklearn.model_selection import train_test_split\n",
        "from sklearn import set_config\n",
        "set_config(display='diagram')"
      ]
    },
    {
      "cell_type": "code",
      "source": [
        "# Import the data\n",
        "path = '/content/Metro_Interstate_Traffic_Volume.csv'\n",
        "df = pd.read_csv(path)\n",
        "df\n"
      ],
      "metadata": {
        "colab": {
          "base_uri": "https://localhost:8080/",
          "height": 468
        },
        "id": "meWxuXWJYSMo",
        "outputId": "68962673-0500-4e54-edbd-c0e3a060b3c7"
      },
      "execution_count": null,
      "outputs": [
        {
          "output_type": "execute_result",
          "data": {
            "text/plain": [
              "      holiday    temp  rain_1h  snow_1h  clouds_all  weather_main  \\\n",
              "0        None  288.28      0.0      0.0          40        Clouds   \n",
              "1        None  289.36      0.0      0.0          75        Clouds   \n",
              "2        None  289.58      0.0      0.0          90        Clouds   \n",
              "3        None  290.13      0.0      0.0          90        Clouds   \n",
              "4        None  291.14      0.0      0.0          75        Clouds   \n",
              "...       ...     ...      ...      ...         ...           ...   \n",
              "48199    None  283.45      0.0      0.0          75        Clouds   \n",
              "48200    None  282.76      0.0      0.0          90        Clouds   \n",
              "48201    None  282.73      0.0      0.0          90  Thunderstorm   \n",
              "48202    None  282.09      0.0      0.0          90        Clouds   \n",
              "48203    None  282.12      0.0      0.0          90        Clouds   \n",
              "\n",
              "          weather_description            date_time  traffic_volume  \n",
              "0            scattered clouds  2012-10-02 09:00:00            5545  \n",
              "1               broken clouds  2012-10-02 10:00:00            4516  \n",
              "2             overcast clouds  2012-10-02 11:00:00            4767  \n",
              "3             overcast clouds  2012-10-02 12:00:00            5026  \n",
              "4               broken clouds  2012-10-02 13:00:00            4918  \n",
              "...                       ...                  ...             ...  \n",
              "48199           broken clouds  2018-09-30 19:00:00            3543  \n",
              "48200         overcast clouds  2018-09-30 20:00:00            2781  \n",
              "48201  proximity thunderstorm  2018-09-30 21:00:00            2159  \n",
              "48202         overcast clouds  2018-09-30 22:00:00            1450  \n",
              "48203         overcast clouds  2018-09-30 23:00:00             954  \n",
              "\n",
              "[48204 rows x 9 columns]"
            ],
            "text/html": [
              "\n",
              "  <div id=\"df-f60bf781-4f62-4770-b06d-e3c7d3bc7c95\">\n",
              "    <div class=\"colab-df-container\">\n",
              "      <div>\n",
              "<style scoped>\n",
              "    .dataframe tbody tr th:only-of-type {\n",
              "        vertical-align: middle;\n",
              "    }\n",
              "\n",
              "    .dataframe tbody tr th {\n",
              "        vertical-align: top;\n",
              "    }\n",
              "\n",
              "    .dataframe thead th {\n",
              "        text-align: right;\n",
              "    }\n",
              "</style>\n",
              "<table border=\"1\" class=\"dataframe\">\n",
              "  <thead>\n",
              "    <tr style=\"text-align: right;\">\n",
              "      <th></th>\n",
              "      <th>holiday</th>\n",
              "      <th>temp</th>\n",
              "      <th>rain_1h</th>\n",
              "      <th>snow_1h</th>\n",
              "      <th>clouds_all</th>\n",
              "      <th>weather_main</th>\n",
              "      <th>weather_description</th>\n",
              "      <th>date_time</th>\n",
              "      <th>traffic_volume</th>\n",
              "    </tr>\n",
              "  </thead>\n",
              "  <tbody>\n",
              "    <tr>\n",
              "      <th>0</th>\n",
              "      <td>None</td>\n",
              "      <td>288.28</td>\n",
              "      <td>0.0</td>\n",
              "      <td>0.0</td>\n",
              "      <td>40</td>\n",
              "      <td>Clouds</td>\n",
              "      <td>scattered clouds</td>\n",
              "      <td>2012-10-02 09:00:00</td>\n",
              "      <td>5545</td>\n",
              "    </tr>\n",
              "    <tr>\n",
              "      <th>1</th>\n",
              "      <td>None</td>\n",
              "      <td>289.36</td>\n",
              "      <td>0.0</td>\n",
              "      <td>0.0</td>\n",
              "      <td>75</td>\n",
              "      <td>Clouds</td>\n",
              "      <td>broken clouds</td>\n",
              "      <td>2012-10-02 10:00:00</td>\n",
              "      <td>4516</td>\n",
              "    </tr>\n",
              "    <tr>\n",
              "      <th>2</th>\n",
              "      <td>None</td>\n",
              "      <td>289.58</td>\n",
              "      <td>0.0</td>\n",
              "      <td>0.0</td>\n",
              "      <td>90</td>\n",
              "      <td>Clouds</td>\n",
              "      <td>overcast clouds</td>\n",
              "      <td>2012-10-02 11:00:00</td>\n",
              "      <td>4767</td>\n",
              "    </tr>\n",
              "    <tr>\n",
              "      <th>3</th>\n",
              "      <td>None</td>\n",
              "      <td>290.13</td>\n",
              "      <td>0.0</td>\n",
              "      <td>0.0</td>\n",
              "      <td>90</td>\n",
              "      <td>Clouds</td>\n",
              "      <td>overcast clouds</td>\n",
              "      <td>2012-10-02 12:00:00</td>\n",
              "      <td>5026</td>\n",
              "    </tr>\n",
              "    <tr>\n",
              "      <th>4</th>\n",
              "      <td>None</td>\n",
              "      <td>291.14</td>\n",
              "      <td>0.0</td>\n",
              "      <td>0.0</td>\n",
              "      <td>75</td>\n",
              "      <td>Clouds</td>\n",
              "      <td>broken clouds</td>\n",
              "      <td>2012-10-02 13:00:00</td>\n",
              "      <td>4918</td>\n",
              "    </tr>\n",
              "    <tr>\n",
              "      <th>...</th>\n",
              "      <td>...</td>\n",
              "      <td>...</td>\n",
              "      <td>...</td>\n",
              "      <td>...</td>\n",
              "      <td>...</td>\n",
              "      <td>...</td>\n",
              "      <td>...</td>\n",
              "      <td>...</td>\n",
              "      <td>...</td>\n",
              "    </tr>\n",
              "    <tr>\n",
              "      <th>48199</th>\n",
              "      <td>None</td>\n",
              "      <td>283.45</td>\n",
              "      <td>0.0</td>\n",
              "      <td>0.0</td>\n",
              "      <td>75</td>\n",
              "      <td>Clouds</td>\n",
              "      <td>broken clouds</td>\n",
              "      <td>2018-09-30 19:00:00</td>\n",
              "      <td>3543</td>\n",
              "    </tr>\n",
              "    <tr>\n",
              "      <th>48200</th>\n",
              "      <td>None</td>\n",
              "      <td>282.76</td>\n",
              "      <td>0.0</td>\n",
              "      <td>0.0</td>\n",
              "      <td>90</td>\n",
              "      <td>Clouds</td>\n",
              "      <td>overcast clouds</td>\n",
              "      <td>2018-09-30 20:00:00</td>\n",
              "      <td>2781</td>\n",
              "    </tr>\n",
              "    <tr>\n",
              "      <th>48201</th>\n",
              "      <td>None</td>\n",
              "      <td>282.73</td>\n",
              "      <td>0.0</td>\n",
              "      <td>0.0</td>\n",
              "      <td>90</td>\n",
              "      <td>Thunderstorm</td>\n",
              "      <td>proximity thunderstorm</td>\n",
              "      <td>2018-09-30 21:00:00</td>\n",
              "      <td>2159</td>\n",
              "    </tr>\n",
              "    <tr>\n",
              "      <th>48202</th>\n",
              "      <td>None</td>\n",
              "      <td>282.09</td>\n",
              "      <td>0.0</td>\n",
              "      <td>0.0</td>\n",
              "      <td>90</td>\n",
              "      <td>Clouds</td>\n",
              "      <td>overcast clouds</td>\n",
              "      <td>2018-09-30 22:00:00</td>\n",
              "      <td>1450</td>\n",
              "    </tr>\n",
              "    <tr>\n",
              "      <th>48203</th>\n",
              "      <td>None</td>\n",
              "      <td>282.12</td>\n",
              "      <td>0.0</td>\n",
              "      <td>0.0</td>\n",
              "      <td>90</td>\n",
              "      <td>Clouds</td>\n",
              "      <td>overcast clouds</td>\n",
              "      <td>2018-09-30 23:00:00</td>\n",
              "      <td>954</td>\n",
              "    </tr>\n",
              "  </tbody>\n",
              "</table>\n",
              "<p>48204 rows × 9 columns</p>\n",
              "</div>\n",
              "      <button class=\"colab-df-convert\" onclick=\"convertToInteractive('df-f60bf781-4f62-4770-b06d-e3c7d3bc7c95')\"\n",
              "              title=\"Convert this dataframe to an interactive table.\"\n",
              "              style=\"display:none;\">\n",
              "        \n",
              "  <svg xmlns=\"http://www.w3.org/2000/svg\" height=\"24px\"viewBox=\"0 0 24 24\"\n",
              "       width=\"24px\">\n",
              "    <path d=\"M0 0h24v24H0V0z\" fill=\"none\"/>\n",
              "    <path d=\"M18.56 5.44l.94 2.06.94-2.06 2.06-.94-2.06-.94-.94-2.06-.94 2.06-2.06.94zm-11 1L8.5 8.5l.94-2.06 2.06-.94-2.06-.94L8.5 2.5l-.94 2.06-2.06.94zm10 10l.94 2.06.94-2.06 2.06-.94-2.06-.94-.94-2.06-.94 2.06-2.06.94z\"/><path d=\"M17.41 7.96l-1.37-1.37c-.4-.4-.92-.59-1.43-.59-.52 0-1.04.2-1.43.59L10.3 9.45l-7.72 7.72c-.78.78-.78 2.05 0 2.83L4 21.41c.39.39.9.59 1.41.59.51 0 1.02-.2 1.41-.59l7.78-7.78 2.81-2.81c.8-.78.8-2.07 0-2.86zM5.41 20L4 18.59l7.72-7.72 1.47 1.35L5.41 20z\"/>\n",
              "  </svg>\n",
              "      </button>\n",
              "      \n",
              "  <style>\n",
              "    .colab-df-container {\n",
              "      display:flex;\n",
              "      flex-wrap:wrap;\n",
              "      gap: 12px;\n",
              "    }\n",
              "\n",
              "    .colab-df-convert {\n",
              "      background-color: #E8F0FE;\n",
              "      border: none;\n",
              "      border-radius: 50%;\n",
              "      cursor: pointer;\n",
              "      display: none;\n",
              "      fill: #1967D2;\n",
              "      height: 32px;\n",
              "      padding: 0 0 0 0;\n",
              "      width: 32px;\n",
              "    }\n",
              "\n",
              "    .colab-df-convert:hover {\n",
              "      background-color: #E2EBFA;\n",
              "      box-shadow: 0px 1px 2px rgba(60, 64, 67, 0.3), 0px 1px 3px 1px rgba(60, 64, 67, 0.15);\n",
              "      fill: #174EA6;\n",
              "    }\n",
              "\n",
              "    [theme=dark] .colab-df-convert {\n",
              "      background-color: #3B4455;\n",
              "      fill: #D2E3FC;\n",
              "    }\n",
              "\n",
              "    [theme=dark] .colab-df-convert:hover {\n",
              "      background-color: #434B5C;\n",
              "      box-shadow: 0px 1px 3px 1px rgba(0, 0, 0, 0.15);\n",
              "      filter: drop-shadow(0px 1px 2px rgba(0, 0, 0, 0.3));\n",
              "      fill: #FFFFFF;\n",
              "    }\n",
              "  </style>\n",
              "\n",
              "      <script>\n",
              "        const buttonEl =\n",
              "          document.querySelector('#df-f60bf781-4f62-4770-b06d-e3c7d3bc7c95 button.colab-df-convert');\n",
              "        buttonEl.style.display =\n",
              "          google.colab.kernel.accessAllowed ? 'block' : 'none';\n",
              "\n",
              "        async function convertToInteractive(key) {\n",
              "          const element = document.querySelector('#df-f60bf781-4f62-4770-b06d-e3c7d3bc7c95');\n",
              "          const dataTable =\n",
              "            await google.colab.kernel.invokeFunction('convertToInteractive',\n",
              "                                                     [key], {});\n",
              "          if (!dataTable) return;\n",
              "\n",
              "          const docLinkHtml = 'Like what you see? Visit the ' +\n",
              "            '<a target=\"_blank\" href=https://colab.research.google.com/notebooks/data_table.ipynb>data table notebook</a>'\n",
              "            + ' to learn more about interactive tables.';\n",
              "          element.innerHTML = '';\n",
              "          dataTable['output_type'] = 'display_data';\n",
              "          await google.colab.output.renderOutput(dataTable, element);\n",
              "          const docLink = document.createElement('div');\n",
              "          docLink.innerHTML = docLinkHtml;\n",
              "          element.appendChild(docLink);\n",
              "        }\n",
              "      </script>\n",
              "    </div>\n",
              "  </div>\n",
              "  "
            ]
          },
          "metadata": {},
          "execution_count": 27
        }
      ]
    },
    {
      "cell_type": "code",
      "source": [
        "#Eliminar la columna 'weather_main' ya que es lo mimo que 'weather_description', sólo que esta ultimaesmás especifica que la primera, por eso veo innecesaria tener las dos\n",
        "df= df.drop(columns=['weather_main'])"
      ],
      "metadata": {
        "id": "bJPrbTiToI4G"
      },
      "execution_count": null,
      "outputs": []
    },
    {
      "cell_type": "code",
      "source": [
        "df['date_time'] = pd.to_datetime(df['date_time'])\n",
        "df.info()"
      ],
      "metadata": {
        "colab": {
          "base_uri": "https://localhost:8080/"
        },
        "id": "qwjXrR0ApIug",
        "outputId": "6ee17494-d045-463c-c2e8-5127f76a1d46"
      },
      "execution_count": null,
      "outputs": [
        {
          "output_type": "stream",
          "name": "stdout",
          "text": [
            "<class 'pandas.core.frame.DataFrame'>\n",
            "RangeIndex: 48204 entries, 0 to 48203\n",
            "Data columns (total 8 columns):\n",
            " #   Column               Non-Null Count  Dtype         \n",
            "---  ------               --------------  -----         \n",
            " 0   holiday              48204 non-null  object        \n",
            " 1   temp                 48204 non-null  float64       \n",
            " 2   rain_1h              48204 non-null  float64       \n",
            " 3   snow_1h              48204 non-null  float64       \n",
            " 4   clouds_all           48204 non-null  int64         \n",
            " 5   weather_description  48204 non-null  object        \n",
            " 6   date_time            48204 non-null  datetime64[ns]\n",
            " 7   traffic_volume       48204 non-null  int64         \n",
            "dtypes: datetime64[ns](1), float64(3), int64(2), object(2)\n",
            "memory usage: 2.9+ MB\n"
          ]
        }
      ]
    },
    {
      "cell_type": "code",
      "source": [
        "# agregar las columnas month, day of month y day of week apartirdela columna  columna date_time y covertir esta ultima en tipo de columna  datetime\n",
        "df['month (numeric)'] = df['date_time'].dt.month\n",
        "df['day of month'] = df['date_time'].dt.day\n",
        "df['day of week (numeric)'] = df['date_time'].dt.weekday\n",
        "\n",
        "df.head()"
      ],
      "metadata": {
        "colab": {
          "base_uri": "https://localhost:8080/",
          "height": 478
        },
        "id": "SjpLeM0BpTYN",
        "outputId": "e8678bde-03a9-46a2-a345-777fd410ec6a"
      },
      "execution_count": null,
      "outputs": [
        {
          "output_type": "execute_result",
          "data": {
            "text/plain": [
              "  holiday    temp  rain_1h  snow_1h  clouds_all weather_description  \\\n",
              "0    None  288.28      0.0      0.0          40    scattered clouds   \n",
              "1    None  289.36      0.0      0.0          75       broken clouds   \n",
              "2    None  289.58      0.0      0.0          90     overcast clouds   \n",
              "3    None  290.13      0.0      0.0          90     overcast clouds   \n",
              "4    None  291.14      0.0      0.0          75       broken clouds   \n",
              "\n",
              "            date_time  traffic_volume  month (numeric)  day of month  \\\n",
              "0 2012-10-02 09:00:00            5545               10             2   \n",
              "1 2012-10-02 10:00:00            4516               10             2   \n",
              "2 2012-10-02 11:00:00            4767               10             2   \n",
              "3 2012-10-02 12:00:00            5026               10             2   \n",
              "4 2012-10-02 13:00:00            4918               10             2   \n",
              "\n",
              "   day of week (numeric)  \n",
              "0                      1  \n",
              "1                      1  \n",
              "2                      1  \n",
              "3                      1  \n",
              "4                      1  "
            ],
            "text/html": [
              "\n",
              "  <div id=\"df-a756cb92-a4c0-406b-8beb-a41f38402901\">\n",
              "    <div class=\"colab-df-container\">\n",
              "      <div>\n",
              "<style scoped>\n",
              "    .dataframe tbody tr th:only-of-type {\n",
              "        vertical-align: middle;\n",
              "    }\n",
              "\n",
              "    .dataframe tbody tr th {\n",
              "        vertical-align: top;\n",
              "    }\n",
              "\n",
              "    .dataframe thead th {\n",
              "        text-align: right;\n",
              "    }\n",
              "</style>\n",
              "<table border=\"1\" class=\"dataframe\">\n",
              "  <thead>\n",
              "    <tr style=\"text-align: right;\">\n",
              "      <th></th>\n",
              "      <th>holiday</th>\n",
              "      <th>temp</th>\n",
              "      <th>rain_1h</th>\n",
              "      <th>snow_1h</th>\n",
              "      <th>clouds_all</th>\n",
              "      <th>weather_description</th>\n",
              "      <th>date_time</th>\n",
              "      <th>traffic_volume</th>\n",
              "      <th>month (numeric)</th>\n",
              "      <th>day of month</th>\n",
              "      <th>day of week (numeric)</th>\n",
              "    </tr>\n",
              "  </thead>\n",
              "  <tbody>\n",
              "    <tr>\n",
              "      <th>0</th>\n",
              "      <td>None</td>\n",
              "      <td>288.28</td>\n",
              "      <td>0.0</td>\n",
              "      <td>0.0</td>\n",
              "      <td>40</td>\n",
              "      <td>scattered clouds</td>\n",
              "      <td>2012-10-02 09:00:00</td>\n",
              "      <td>5545</td>\n",
              "      <td>10</td>\n",
              "      <td>2</td>\n",
              "      <td>1</td>\n",
              "    </tr>\n",
              "    <tr>\n",
              "      <th>1</th>\n",
              "      <td>None</td>\n",
              "      <td>289.36</td>\n",
              "      <td>0.0</td>\n",
              "      <td>0.0</td>\n",
              "      <td>75</td>\n",
              "      <td>broken clouds</td>\n",
              "      <td>2012-10-02 10:00:00</td>\n",
              "      <td>4516</td>\n",
              "      <td>10</td>\n",
              "      <td>2</td>\n",
              "      <td>1</td>\n",
              "    </tr>\n",
              "    <tr>\n",
              "      <th>2</th>\n",
              "      <td>None</td>\n",
              "      <td>289.58</td>\n",
              "      <td>0.0</td>\n",
              "      <td>0.0</td>\n",
              "      <td>90</td>\n",
              "      <td>overcast clouds</td>\n",
              "      <td>2012-10-02 11:00:00</td>\n",
              "      <td>4767</td>\n",
              "      <td>10</td>\n",
              "      <td>2</td>\n",
              "      <td>1</td>\n",
              "    </tr>\n",
              "    <tr>\n",
              "      <th>3</th>\n",
              "      <td>None</td>\n",
              "      <td>290.13</td>\n",
              "      <td>0.0</td>\n",
              "      <td>0.0</td>\n",
              "      <td>90</td>\n",
              "      <td>overcast clouds</td>\n",
              "      <td>2012-10-02 12:00:00</td>\n",
              "      <td>5026</td>\n",
              "      <td>10</td>\n",
              "      <td>2</td>\n",
              "      <td>1</td>\n",
              "    </tr>\n",
              "    <tr>\n",
              "      <th>4</th>\n",
              "      <td>None</td>\n",
              "      <td>291.14</td>\n",
              "      <td>0.0</td>\n",
              "      <td>0.0</td>\n",
              "      <td>75</td>\n",
              "      <td>broken clouds</td>\n",
              "      <td>2012-10-02 13:00:00</td>\n",
              "      <td>4918</td>\n",
              "      <td>10</td>\n",
              "      <td>2</td>\n",
              "      <td>1</td>\n",
              "    </tr>\n",
              "  </tbody>\n",
              "</table>\n",
              "</div>\n",
              "      <button class=\"colab-df-convert\" onclick=\"convertToInteractive('df-a756cb92-a4c0-406b-8beb-a41f38402901')\"\n",
              "              title=\"Convert this dataframe to an interactive table.\"\n",
              "              style=\"display:none;\">\n",
              "        \n",
              "  <svg xmlns=\"http://www.w3.org/2000/svg\" height=\"24px\"viewBox=\"0 0 24 24\"\n",
              "       width=\"24px\">\n",
              "    <path d=\"M0 0h24v24H0V0z\" fill=\"none\"/>\n",
              "    <path d=\"M18.56 5.44l.94 2.06.94-2.06 2.06-.94-2.06-.94-.94-2.06-.94 2.06-2.06.94zm-11 1L8.5 8.5l.94-2.06 2.06-.94-2.06-.94L8.5 2.5l-.94 2.06-2.06.94zm10 10l.94 2.06.94-2.06 2.06-.94-2.06-.94-.94-2.06-.94 2.06-2.06.94z\"/><path d=\"M17.41 7.96l-1.37-1.37c-.4-.4-.92-.59-1.43-.59-.52 0-1.04.2-1.43.59L10.3 9.45l-7.72 7.72c-.78.78-.78 2.05 0 2.83L4 21.41c.39.39.9.59 1.41.59.51 0 1.02-.2 1.41-.59l7.78-7.78 2.81-2.81c.8-.78.8-2.07 0-2.86zM5.41 20L4 18.59l7.72-7.72 1.47 1.35L5.41 20z\"/>\n",
              "  </svg>\n",
              "      </button>\n",
              "      \n",
              "  <style>\n",
              "    .colab-df-container {\n",
              "      display:flex;\n",
              "      flex-wrap:wrap;\n",
              "      gap: 12px;\n",
              "    }\n",
              "\n",
              "    .colab-df-convert {\n",
              "      background-color: #E8F0FE;\n",
              "      border: none;\n",
              "      border-radius: 50%;\n",
              "      cursor: pointer;\n",
              "      display: none;\n",
              "      fill: #1967D2;\n",
              "      height: 32px;\n",
              "      padding: 0 0 0 0;\n",
              "      width: 32px;\n",
              "    }\n",
              "\n",
              "    .colab-df-convert:hover {\n",
              "      background-color: #E2EBFA;\n",
              "      box-shadow: 0px 1px 2px rgba(60, 64, 67, 0.3), 0px 1px 3px 1px rgba(60, 64, 67, 0.15);\n",
              "      fill: #174EA6;\n",
              "    }\n",
              "\n",
              "    [theme=dark] .colab-df-convert {\n",
              "      background-color: #3B4455;\n",
              "      fill: #D2E3FC;\n",
              "    }\n",
              "\n",
              "    [theme=dark] .colab-df-convert:hover {\n",
              "      background-color: #434B5C;\n",
              "      box-shadow: 0px 1px 3px 1px rgba(0, 0, 0, 0.15);\n",
              "      filter: drop-shadow(0px 1px 2px rgba(0, 0, 0, 0.3));\n",
              "      fill: #FFFFFF;\n",
              "    }\n",
              "  </style>\n",
              "\n",
              "      <script>\n",
              "        const buttonEl =\n",
              "          document.querySelector('#df-a756cb92-a4c0-406b-8beb-a41f38402901 button.colab-df-convert');\n",
              "        buttonEl.style.display =\n",
              "          google.colab.kernel.accessAllowed ? 'block' : 'none';\n",
              "\n",
              "        async function convertToInteractive(key) {\n",
              "          const element = document.querySelector('#df-a756cb92-a4c0-406b-8beb-a41f38402901');\n",
              "          const dataTable =\n",
              "            await google.colab.kernel.invokeFunction('convertToInteractive',\n",
              "                                                     [key], {});\n",
              "          if (!dataTable) return;\n",
              "\n",
              "          const docLinkHtml = 'Like what you see? Visit the ' +\n",
              "            '<a target=\"_blank\" href=https://colab.research.google.com/notebooks/data_table.ipynb>data table notebook</a>'\n",
              "            + ' to learn more about interactive tables.';\n",
              "          element.innerHTML = '';\n",
              "          dataTable['output_type'] = 'display_data';\n",
              "          await google.colab.output.renderOutput(dataTable, element);\n",
              "          const docLink = document.createElement('div');\n",
              "          docLink.innerHTML = docLinkHtml;\n",
              "          element.appendChild(docLink);\n",
              "        }\n",
              "      </script>\n",
              "    </div>\n",
              "  </div>\n",
              "  "
            ]
          },
          "metadata": {},
          "execution_count": 30
        }
      ]
    },
    {
      "cell_type": "code",
      "source": [
        "df.info()"
      ],
      "metadata": {
        "colab": {
          "base_uri": "https://localhost:8080/"
        },
        "id": "Y-agH1FWu6ZE",
        "outputId": "014856ec-840e-4a8d-b9e1-d4112fdfe09d"
      },
      "execution_count": null,
      "outputs": [
        {
          "output_type": "stream",
          "name": "stdout",
          "text": [
            "<class 'pandas.core.frame.DataFrame'>\n",
            "RangeIndex: 48204 entries, 0 to 48203\n",
            "Data columns (total 11 columns):\n",
            " #   Column                 Non-Null Count  Dtype         \n",
            "---  ------                 --------------  -----         \n",
            " 0   holiday                48204 non-null  object        \n",
            " 1   temp                   48204 non-null  float64       \n",
            " 2   rain_1h                48204 non-null  float64       \n",
            " 3   snow_1h                48204 non-null  float64       \n",
            " 4   clouds_all             48204 non-null  int64         \n",
            " 5   weather_description    48204 non-null  object        \n",
            " 6   date_time              48204 non-null  datetime64[ns]\n",
            " 7   traffic_volume         48204 non-null  int64         \n",
            " 8   month (numeric)        48204 non-null  int64         \n",
            " 9   day of month           48204 non-null  int64         \n",
            " 10  day of week (numeric)  48204 non-null  int64         \n",
            "dtypes: datetime64[ns](1), float64(3), int64(5), object(2)\n",
            "memory usage: 4.0+ MB\n"
          ]
        }
      ]
    },
    {
      "cell_type": "markdown",
      "source": [
        "#**LIMPIEZA DE DATOS**"
      ],
      "metadata": {
        "id": "ph3hYPqWaJlT"
      }
    },
    {
      "cell_type": "code",
      "source": [
        "#REVISANDO SI HAY FILAS DUPLICADAS\n",
        "df.duplicated().sum()\n"
      ],
      "metadata": {
        "colab": {
          "base_uri": "https://localhost:8080/"
        },
        "id": "NDA0DKupbWWl",
        "outputId": "8f4c10bd-979f-4b05-c72b-6cc1ed4bc00e"
      },
      "execution_count": null,
      "outputs": [
        {
          "output_type": "execute_result",
          "data": {
            "text/plain": [
              "17"
            ]
          },
          "metadata": {},
          "execution_count": 32
        }
      ]
    },
    {
      "cell_type": "code",
      "source": [
        "# Eliminar los datos duplicados\n",
        "df = df.drop_duplicates()\n",
        "df.duplicated().sum()"
      ],
      "metadata": {
        "colab": {
          "base_uri": "https://localhost:8080/"
        },
        "id": "3x6HqTrUcw6Y",
        "outputId": "cf86adf2-11bf-47e4-9f2a-60137798d16f"
      },
      "execution_count": null,
      "outputs": [
        {
          "output_type": "execute_result",
          "data": {
            "text/plain": [
              "0"
            ]
          },
          "metadata": {},
          "execution_count": 33
        }
      ]
    },
    {
      "cell_type": "code",
      "source": [
        "#Verificandosi hay algún valor faltante \n",
        "df.isna().sum()"
      ],
      "metadata": {
        "colab": {
          "base_uri": "https://localhost:8080/"
        },
        "id": "NEO4QonXeXVn",
        "outputId": "9da2c022-4e0f-4f50-9e67-27f524fe5889"
      },
      "execution_count": null,
      "outputs": [
        {
          "output_type": "execute_result",
          "data": {
            "text/plain": [
              "holiday                  0\n",
              "temp                     0\n",
              "rain_1h                  0\n",
              "snow_1h                  0\n",
              "clouds_all               0\n",
              "weather_description      0\n",
              "date_time                0\n",
              "traffic_volume           0\n",
              "month (numeric)          0\n",
              "day of month             0\n",
              "day of week (numeric)    0\n",
              "dtype: int64"
            ]
          },
          "metadata": {},
          "execution_count": 34
        }
      ]
    },
    {
      "cell_type": "code",
      "source": [
        "#identificar y tratar cualquier incoherencia en los valores categoricos\n",
        "df['holiday'].value_counts()"
      ],
      "metadata": {
        "colab": {
          "base_uri": "https://localhost:8080/"
        },
        "id": "qSB44YDmfQ41",
        "outputId": "b863594e-d16e-47a7-aa52-9b21ba0db45e"
      },
      "execution_count": null,
      "outputs": [
        {
          "output_type": "execute_result",
          "data": {
            "text/plain": [
              "None                         48126\n",
              "Labor Day                        7\n",
              "Thanksgiving Day                 6\n",
              "Christmas Day                    6\n",
              "New Years Day                    6\n",
              "Martin Luther King Jr Day        6\n",
              "Columbus Day                     5\n",
              "Veterans Day                     5\n",
              "Washingtons Birthday             5\n",
              "Memorial Day                     5\n",
              "Independence Day                 5\n",
              "State Fair                       5\n",
              "Name: holiday, dtype: int64"
            ]
          },
          "metadata": {},
          "execution_count": 35
        }
      ]
    },
    {
      "cell_type": "code",
      "source": [
        "df['weather_description'].value_counts()"
      ],
      "metadata": {
        "colab": {
          "base_uri": "https://localhost:8080/"
        },
        "id": "6NJAdB8igMwg",
        "outputId": "b1624284-ef9e-4b8a-f608-c7eca018a4f4"
      },
      "execution_count": null,
      "outputs": [
        {
          "output_type": "execute_result",
          "data": {
            "text/plain": [
              "sky is clear                           11659\n",
              "mist                                    5949\n",
              "overcast clouds                         5079\n",
              "broken clouds                           4663\n",
              "scattered clouds                        3460\n",
              "light rain                              3372\n",
              "few clouds                              1956\n",
              "light snow                              1945\n",
              "Sky is Clear                            1725\n",
              "moderate rain                           1664\n",
              "haze                                    1360\n",
              "light intensity drizzle                 1099\n",
              "fog                                      912\n",
              "proximity thunderstorm                   673\n",
              "drizzle                                  651\n",
              "heavy snow                               616\n",
              "heavy intensity rain                     467\n",
              "snow                                     293\n",
              "proximity shower rain                    136\n",
              "thunderstorm                             124\n",
              "heavy intensity drizzle                   64\n",
              "thunderstorm with heavy rain              63\n",
              "thunderstorm with light rain              54\n",
              "proximity thunderstorm with rain          52\n",
              "thunderstorm with rain                    37\n",
              "smoke                                     20\n",
              "very heavy rain                           18\n",
              "thunderstorm with light drizzle           15\n",
              "light intensity shower rain               13\n",
              "proximity thunderstorm with drizzle       13\n",
              "light shower snow                         11\n",
              "light rain and snow                        6\n",
              "shower drizzle                             6\n",
              "SQUALLS                                    4\n",
              "sleet                                      3\n",
              "thunderstorm with drizzle                  2\n",
              "freezing rain                              2\n",
              "shower snow                                1\n",
              "Name: weather_description, dtype: int64"
            ]
          },
          "metadata": {},
          "execution_count": 36
        }
      ]
    },
    {
      "cell_type": "code",
      "source": [
        "df['date_time'].value_counts()"
      ],
      "metadata": {
        "colab": {
          "base_uri": "https://localhost:8080/"
        },
        "id": "-Ot8eFn-gisc",
        "outputId": "b39585f3-9ec3-40e2-c6df-b5d43dc36d3b"
      },
      "execution_count": null,
      "outputs": [
        {
          "output_type": "execute_result",
          "data": {
            "text/plain": [
              "2013-04-18 22:00:00    6\n",
              "2013-05-19 10:00:00    6\n",
              "2012-12-16 21:00:00    5\n",
              "2013-12-03 14:00:00    5\n",
              "2015-07-06 13:00:00    5\n",
              "                      ..\n",
              "2015-07-03 21:00:00    1\n",
              "2015-07-03 22:00:00    1\n",
              "2015-07-03 23:00:00    1\n",
              "2015-07-04 00:00:00    1\n",
              "2018-09-30 23:00:00    1\n",
              "Name: date_time, Length: 40575, dtype: int64"
            ]
          },
          "metadata": {},
          "execution_count": 37
        }
      ]
    },
    {
      "cell_type": "code",
      "source": [
        "#identificando valores Inusuales\n",
        "df['clouds_all'].value_counts()"
      ],
      "metadata": {
        "colab": {
          "base_uri": "https://localhost:8080/"
        },
        "id": "-DryFN_XhLgE",
        "outputId": "9de8edbf-9ff2-4afa-d9b0-ab0aeca67cce"
      },
      "execution_count": null,
      "outputs": [
        {
          "output_type": "execute_result",
          "data": {
            "text/plain": [
              "90     16437\n",
              "1      12754\n",
              "75      5068\n",
              "40      3992\n",
              "0       1987\n",
              "20      1849\n",
              "64      1558\n",
              "5       1094\n",
              "92       776\n",
              "12       273\n",
              "8        270\n",
              "24       186\n",
              "32       185\n",
              "88       183\n",
              "80       181\n",
              "48       180\n",
              "68       179\n",
              "36       169\n",
              "56       164\n",
              "76       153\n",
              "44       147\n",
              "100       94\n",
              "99        44\n",
              "93        34\n",
              "98        21\n",
              "87        18\n",
              "85        17\n",
              "59        16\n",
              "96        14\n",
              "57        13\n",
              "89        13\n",
              "91        12\n",
              "81        11\n",
              "46         9\n",
              "97         8\n",
              "77         7\n",
              "6          6\n",
              "63         5\n",
              "11         5\n",
              "83         5\n",
              "16         5\n",
              "25         4\n",
              "70         4\n",
              "58         4\n",
              "72         3\n",
              "13         3\n",
              "3          3\n",
              "4          3\n",
              "2          2\n",
              "50         2\n",
              "62         2\n",
              "67         2\n",
              "42         2\n",
              "86         2\n",
              "38         2\n",
              "60         2\n",
              "54         2\n",
              "84         1\n",
              "17         1\n",
              "78         1\n",
              "Name: clouds_all, dtype: int64"
            ]
          },
          "metadata": {},
          "execution_count": 38
        }
      ]
    },
    {
      "cell_type": "code",
      "source": [
        "df['temp'].value_counts()"
      ],
      "metadata": {
        "colab": {
          "base_uri": "https://localhost:8080/"
        },
        "id": "qo5ZWaSeLi-7",
        "outputId": "7a10d36f-df59-4772-ef83-318ac0a5e8f3"
      },
      "execution_count": null,
      "outputs": [
        {
          "output_type": "execute_result",
          "data": {
            "text/plain": [
              "274.150    128\n",
              "275.150     89\n",
              "274.080     85\n",
              "276.793     78\n",
              "291.150     73\n",
              "          ... \n",
              "260.300      1\n",
              "259.480      1\n",
              "251.610      1\n",
              "262.800      1\n",
              "304.900      1\n",
              "Name: temp, Length: 5843, dtype: int64"
            ]
          },
          "metadata": {},
          "execution_count": 39
        }
      ]
    },
    {
      "cell_type": "code",
      "source": [
        "df['traffic_volume'].value_counts()"
      ],
      "metadata": {
        "colab": {
          "base_uri": "https://localhost:8080/"
        },
        "id": "Ek6DE-QBONhd",
        "outputId": "04b2e771-dc0b-4c3b-94dd-efc8d834d9a9"
      },
      "execution_count": null,
      "outputs": [
        {
          "output_type": "execute_result",
          "data": {
            "text/plain": [
              "353     50\n",
              "356     50\n",
              "340     47\n",
              "351     44\n",
              "373     42\n",
              "        ..\n",
              "6953     1\n",
              "2057     1\n",
              "2585     1\n",
              "7118     1\n",
              "2346     1\n",
              "Name: traffic_volume, Length: 6704, dtype: int64"
            ]
          },
          "metadata": {},
          "execution_count": 40
        }
      ]
    },
    {
      "cell_type": "code",
      "source": [
        "df['day of month'].value_counts()"
      ],
      "metadata": {
        "colab": {
          "base_uri": "https://localhost:8080/"
        },
        "id": "GEQUwewbLuit",
        "outputId": "53ea9f54-0c1d-4d27-9691-da5fcb614bbe"
      },
      "execution_count": null,
      "outputs": [
        {
          "output_type": "execute_result",
          "data": {
            "text/plain": [
              "19    1714\n",
              "6     1699\n",
              "11    1661\n",
              "20    1655\n",
              "26    1643\n",
              "25    1640\n",
              "14    1632\n",
              "18    1630\n",
              "16    1627\n",
              "24    1616\n",
              "4     1613\n",
              "15    1610\n",
              "17    1603\n",
              "28    1596\n",
              "23    1595\n",
              "10    1594\n",
              "12    1580\n",
              "3     1576\n",
              "9     1573\n",
              "7     1568\n",
              "8     1560\n",
              "5     1538\n",
              "2     1524\n",
              "27    1521\n",
              "22    1516\n",
              "21    1509\n",
              "13    1496\n",
              "1     1442\n",
              "30    1390\n",
              "29    1356\n",
              "31     910\n",
              "Name: day of month, dtype: int64"
            ]
          },
          "metadata": {},
          "execution_count": 41
        }
      ]
    },
    {
      "cell_type": "code",
      "source": [
        "df['day of month'].value_counts()"
      ],
      "metadata": {
        "colab": {
          "base_uri": "https://localhost:8080/"
        },
        "id": "CEh4vEF3MocI",
        "outputId": "0299e083-a24b-4fba-f62a-084a334d3963"
      },
      "execution_count": null,
      "outputs": [
        {
          "output_type": "execute_result",
          "data": {
            "text/plain": [
              "19    1714\n",
              "6     1699\n",
              "11    1661\n",
              "20    1655\n",
              "26    1643\n",
              "25    1640\n",
              "14    1632\n",
              "18    1630\n",
              "16    1627\n",
              "24    1616\n",
              "4     1613\n",
              "15    1610\n",
              "17    1603\n",
              "28    1596\n",
              "23    1595\n",
              "10    1594\n",
              "12    1580\n",
              "3     1576\n",
              "9     1573\n",
              "7     1568\n",
              "8     1560\n",
              "5     1538\n",
              "2     1524\n",
              "27    1521\n",
              "22    1516\n",
              "21    1509\n",
              "13    1496\n",
              "1     1442\n",
              "30    1390\n",
              "29    1356\n",
              "31     910\n",
              "Name: day of month, dtype: int64"
            ]
          },
          "metadata": {},
          "execution_count": 42
        }
      ]
    },
    {
      "cell_type": "code",
      "source": [
        "# no se ven valores inusuales "
      ],
      "metadata": {
        "id": "zzaSfKV_h0xI"
      },
      "execution_count": null,
      "outputs": []
    },
    {
      "cell_type": "markdown",
      "source": [
        "#**VISUALIZACIÓN DE LOS DATOS**"
      ],
      "metadata": {
        "id": "p_wOSX6sqbOl"
      }
    },
    {
      "cell_type": "code",
      "source": [
        "import matplotlib.pyplot as plt"
      ],
      "metadata": {
        "id": "mXKUQ-dQqdwS"
      },
      "execution_count": null,
      "outputs": []
    },
    {
      "cell_type": "code",
      "source": [
        "traffic_months = df.date_time.dt.month.value_counts()\n",
        "traffic_months"
      ],
      "metadata": {
        "colab": {
          "base_uri": "https://localhost:8080/"
        },
        "id": "tHBPzdG_Z35C",
        "outputId": "dc3a7427-fe4f-4fe4-dcba-f9b7b0b593e0"
      },
      "execution_count": null,
      "outputs": [
        {
          "output_type": "execute_result",
          "data": {
            "text/plain": [
              "7     4795\n",
              "5     4436\n",
              "8     4378\n",
              "4     4259\n",
              "12    4246\n",
              "1     4006\n",
              "9     3826\n",
              "3     3793\n",
              "6     3766\n",
              "11    3684\n",
              "2     3526\n",
              "10    3472\n",
              "Name: date_time, dtype: int64"
            ]
          },
          "metadata": {},
          "execution_count": 45
        }
      ]
    },
    {
      "cell_type": "code",
      "source": [
        "plt.plot (traffic_months)\n",
        "plt.legend()\n",
        "plt.xlabel('Meses del Año', fontsize = 15)\n",
        "plt.ylabel('Cantidad de personas por mes ', fontsize = 15)\n",
        "plt.title(' Trafico de personas por horas por mes  ', fontsize = 15)"
      ],
      "metadata": {
        "colab": {
          "base_uri": "https://localhost:8080/",
          "height": 337
        },
        "id": "pmJm7myD2tUj",
        "outputId": "822e4dc0-4991-4889-f266-ea22d8408337"
      },
      "execution_count": null,
      "outputs": [
        {
          "output_type": "stream",
          "name": "stderr",
          "text": [
            "WARNING:matplotlib.legend:No handles with labels found to put in legend.\n"
          ]
        },
        {
          "output_type": "execute_result",
          "data": {
            "text/plain": [
              "Text(0.5, 1.0, ' Trafico de personas por horas por mes  ')"
            ]
          },
          "metadata": {},
          "execution_count": 46
        },
        {
          "output_type": "display_data",
          "data": {
            "text/plain": [
              "<Figure size 432x288 with 1 Axes>"
            ],
            "image/png": "[encoded data removed]"
          },
          "metadata": {
            "needs_background": "light"
          }
        }
      ]
    },
    {
      "cell_type": "markdown",
      "source": [
        "Según podemos ver en el grafico anterior, en el mes de julio es donde hay más trafico de personas en esa linea del metro "
      ],
      "metadata": {
        "id": "1-9HUlED80g3"
      }
    },
    {
      "cell_type": "code",
      "source": [
        "traffic_week = df.date_time.dt.weekday.value_counts()\n",
        "traffic_week"
      ],
      "metadata": {
        "colab": {
          "base_uri": "https://localhost:8080/"
        },
        "id": "j1BeEgCh-XGN",
        "outputId": "00832bad-4919-41ff-9524-dc6f63dbcbbe"
      },
      "execution_count": null,
      "outputs": [
        {
          "output_type": "execute_result",
          "data": {
            "text/plain": [
              "0    7071\n",
              "2    6926\n",
              "6    6870\n",
              "1    6844\n",
              "4    6830\n",
              "5    6830\n",
              "3    6816\n",
              "Name: date_time, dtype: int64"
            ]
          },
          "metadata": {},
          "execution_count": 47
        }
      ]
    },
    {
      "cell_type": "code",
      "source": [
        "plt.plot (traffic_week)\n",
        "plt.legend()\n",
        "plt.xlabel('Dias de la semana ', fontsize = 15)\n",
        "plt.ylabel('Cantidad de personas por día ', fontsize = 15)\n",
        "plt.title(' Trafico de personas por horas por día  ', fontsize = 15)"
      ],
      "metadata": {
        "colab": {
          "base_uri": "https://localhost:8080/",
          "height": 338
        },
        "id": "rKX9pRym-zNN",
        "outputId": "c64c6a8e-7e5f-45b8-83d6-f70866935266"
      },
      "execution_count": null,
      "outputs": [
        {
          "output_type": "stream",
          "name": "stderr",
          "text": [
            "WARNING:matplotlib.legend:No handles with labels found to put in legend.\n"
          ]
        },
        {
          "output_type": "execute_result",
          "data": {
            "text/plain": [
              "Text(0.5, 1.0, ' Trafico de personas por horas por día  ')"
            ]
          },
          "metadata": {},
          "execution_count": 48
        },
        {
          "output_type": "display_data",
          "data": {
            "text/plain": [
              "<Figure size 432x288 with 1 Axes>"
            ],
            "image/png": "[encoded data removed]"
          },
          "metadata": {
            "needs_background": "light"
          }
        }
      ]
    },
    {
      "cell_type": "code",
      "source": [
        "#filtrado por fin de semana de viernes a domingo\n",
        "\n",
        "filter_weekend= df['day of week (numeric)'] >= 5\n",
        "filter_weekend\n"
      ],
      "metadata": {
        "colab": {
          "base_uri": "https://localhost:8080/"
        },
        "id": "jH9w3wz14WNA",
        "outputId": "5c8ddafe-afa0-41ca-a7ab-4de7e02e7c05"
      },
      "execution_count": null,
      "outputs": [
        {
          "output_type": "execute_result",
          "data": {
            "text/plain": [
              "0        False\n",
              "1        False\n",
              "2        False\n",
              "3        False\n",
              "4        False\n",
              "         ...  \n",
              "48199     True\n",
              "48200     True\n",
              "48201     True\n",
              "48202     True\n",
              "48203     True\n",
              "Name: day of week (numeric), Length: 48187, dtype: bool"
            ]
          },
          "metadata": {},
          "execution_count": 49
        }
      ]
    },
    {
      "cell_type": "code",
      "source": [
        "df.loc[filter_weekend, :].head()"
      ],
      "metadata": {
        "colab": {
          "base_uri": "https://localhost:8080/",
          "height": 478
        },
        "id": "sSAsGK8d55UY",
        "outputId": "29b3d4cd-6134-41fc-9380-37ee31c0ff66"
      },
      "execution_count": null,
      "outputs": [
        {
          "output_type": "execute_result",
          "data": {
            "text/plain": [
              "   holiday    temp  rain_1h  snow_1h  clouds_all weather_description  \\\n",
              "81    None  278.81      0.0      0.0          90     overcast clouds   \n",
              "82    None  278.55      0.0      0.0          90     overcast clouds   \n",
              "83    None  278.59      0.0      0.0          90     overcast clouds   \n",
              "84    None  276.99      0.0      0.0          75       broken clouds   \n",
              "85    None  276.35      0.0      0.0          20          few clouds   \n",
              "\n",
              "             date_time  traffic_volume  month (numeric)  day of month  \\\n",
              "81 2012-10-06 00:00:00            1231               10             6   \n",
              "82 2012-10-06 01:00:00             718               10             6   \n",
              "83 2012-10-06 02:00:00             545               10             6   \n",
              "84 2012-10-06 04:00:00             411               10             6   \n",
              "85 2012-10-06 05:00:00             688               10             6   \n",
              "\n",
              "    day of week (numeric)  \n",
              "81                      5  \n",
              "82                      5  \n",
              "83                      5  \n",
              "84                      5  \n",
              "85                      5  "
            ],
            "text/html": [
              "\n",
              "  <div id=\"df-49414af8-f884-438b-bb70-3b0a0fd21a46\">\n",
              "    <div class=\"colab-df-container\">\n",
              "      <div>\n",
              "<style scoped>\n",
              "    .dataframe tbody tr th:only-of-type {\n",
              "        vertical-align: middle;\n",
              "    }\n",
              "\n",
              "    .dataframe tbody tr th {\n",
              "        vertical-align: top;\n",
              "    }\n",
              "\n",
              "    .dataframe thead th {\n",
              "        text-align: right;\n",
              "    }\n",
              "</style>\n",
              "<table border=\"1\" class=\"dataframe\">\n",
              "  <thead>\n",
              "    <tr style=\"text-align: right;\">\n",
              "      <th></th>\n",
              "      <th>holiday</th>\n",
              "      <th>temp</th>\n",
              "      <th>rain_1h</th>\n",
              "      <th>snow_1h</th>\n",
              "      <th>clouds_all</th>\n",
              "      <th>weather_description</th>\n",
              "      <th>date_time</th>\n",
              "      <th>traffic_volume</th>\n",
              "      <th>month (numeric)</th>\n",
              "      <th>day of month</th>\n",
              "      <th>day of week (numeric)</th>\n",
              "    </tr>\n",
              "  </thead>\n",
              "  <tbody>\n",
              "    <tr>\n",
              "      <th>81</th>\n",
              "      <td>None</td>\n",
              "      <td>278.81</td>\n",
              "      <td>0.0</td>\n",
              "      <td>0.0</td>\n",
              "      <td>90</td>\n",
              "      <td>overcast clouds</td>\n",
              "      <td>2012-10-06 00:00:00</td>\n",
              "      <td>1231</td>\n",
              "      <td>10</td>\n",
              "      <td>6</td>\n",
              "      <td>5</td>\n",
              "    </tr>\n",
              "    <tr>\n",
              "      <th>82</th>\n",
              "      <td>None</td>\n",
              "      <td>278.55</td>\n",
              "      <td>0.0</td>\n",
              "      <td>0.0</td>\n",
              "      <td>90</td>\n",
              "      <td>overcast clouds</td>\n",
              "      <td>2012-10-06 01:00:00</td>\n",
              "      <td>718</td>\n",
              "      <td>10</td>\n",
              "      <td>6</td>\n",
              "      <td>5</td>\n",
              "    </tr>\n",
              "    <tr>\n",
              "      <th>83</th>\n",
              "      <td>None</td>\n",
              "      <td>278.59</td>\n",
              "      <td>0.0</td>\n",
              "      <td>0.0</td>\n",
              "      <td>90</td>\n",
              "      <td>overcast clouds</td>\n",
              "      <td>2012-10-06 02:00:00</td>\n",
              "      <td>545</td>\n",
              "      <td>10</td>\n",
              "      <td>6</td>\n",
              "      <td>5</td>\n",
              "    </tr>\n",
              "    <tr>\n",
              "      <th>84</th>\n",
              "      <td>None</td>\n",
              "      <td>276.99</td>\n",
              "      <td>0.0</td>\n",
              "      <td>0.0</td>\n",
              "      <td>75</td>\n",
              "      <td>broken clouds</td>\n",
              "      <td>2012-10-06 04:00:00</td>\n",
              "      <td>411</td>\n",
              "      <td>10</td>\n",
              "      <td>6</td>\n",
              "      <td>5</td>\n",
              "    </tr>\n",
              "    <tr>\n",
              "      <th>85</th>\n",
              "      <td>None</td>\n",
              "      <td>276.35</td>\n",
              "      <td>0.0</td>\n",
              "      <td>0.0</td>\n",
              "      <td>20</td>\n",
              "      <td>few clouds</td>\n",
              "      <td>2012-10-06 05:00:00</td>\n",
              "      <td>688</td>\n",
              "      <td>10</td>\n",
              "      <td>6</td>\n",
              "      <td>5</td>\n",
              "    </tr>\n",
              "  </tbody>\n",
              "</table>\n",
              "</div>\n",
              "      <button class=\"colab-df-convert\" onclick=\"convertToInteractive('df-49414af8-f884-438b-bb70-3b0a0fd21a46')\"\n",
              "              title=\"Convert this dataframe to an interactive table.\"\n",
              "              style=\"display:none;\">\n",
              "        \n",
              "  <svg xmlns=\"http://www.w3.org/2000/svg\" height=\"24px\"viewBox=\"0 0 24 24\"\n",
              "       width=\"24px\">\n",
              "    <path d=\"M0 0h24v24H0V0z\" fill=\"none\"/>\n",
              "    <path d=\"M18.56 5.44l.94 2.06.94-2.06 2.06-.94-2.06-.94-.94-2.06-.94 2.06-2.06.94zm-11 1L8.5 8.5l.94-2.06 2.06-.94-2.06-.94L8.5 2.5l-.94 2.06-2.06.94zm10 10l.94 2.06.94-2.06 2.06-.94-2.06-.94-.94-2.06-.94 2.06-2.06.94z\"/><path d=\"M17.41 7.96l-1.37-1.37c-.4-.4-.92-.59-1.43-.59-.52 0-1.04.2-1.43.59L10.3 9.45l-7.72 7.72c-.78.78-.78 2.05 0 2.83L4 21.41c.39.39.9.59 1.41.59.51 0 1.02-.2 1.41-.59l7.78-7.78 2.81-2.81c.8-.78.8-2.07 0-2.86zM5.41 20L4 18.59l7.72-7.72 1.47 1.35L5.41 20z\"/>\n",
              "  </svg>\n",
              "      </button>\n",
              "      \n",
              "  <style>\n",
              "    .colab-df-container {\n",
              "      display:flex;\n",
              "      flex-wrap:wrap;\n",
              "      gap: 12px;\n",
              "    }\n",
              "\n",
              "    .colab-df-convert {\n",
              "      background-color: #E8F0FE;\n",
              "      border: none;\n",
              "      border-radius: 50%;\n",
              "      cursor: pointer;\n",
              "      display: none;\n",
              "      fill: #1967D2;\n",
              "      height: 32px;\n",
              "      padding: 0 0 0 0;\n",
              "      width: 32px;\n",
              "    }\n",
              "\n",
              "    .colab-df-convert:hover {\n",
              "      background-color: #E2EBFA;\n",
              "      box-shadow: 0px 1px 2px rgba(60, 64, 67, 0.3), 0px 1px 3px 1px rgba(60, 64, 67, 0.15);\n",
              "      fill: #174EA6;\n",
              "    }\n",
              "\n",
              "    [theme=dark] .colab-df-convert {\n",
              "      background-color: #3B4455;\n",
              "      fill: #D2E3FC;\n",
              "    }\n",
              "\n",
              "    [theme=dark] .colab-df-convert:hover {\n",
              "      background-color: #434B5C;\n",
              "      box-shadow: 0px 1px 3px 1px rgba(0, 0, 0, 0.15);\n",
              "      filter: drop-shadow(0px 1px 2px rgba(0, 0, 0, 0.3));\n",
              "      fill: #FFFFFF;\n",
              "    }\n",
              "  </style>\n",
              "\n",
              "      <script>\n",
              "        const buttonEl =\n",
              "          document.querySelector('#df-49414af8-f884-438b-bb70-3b0a0fd21a46 button.colab-df-convert');\n",
              "        buttonEl.style.display =\n",
              "          google.colab.kernel.accessAllowed ? 'block' : 'none';\n",
              "\n",
              "        async function convertToInteractive(key) {\n",
              "          const element = document.querySelector('#df-49414af8-f884-438b-bb70-3b0a0fd21a46');\n",
              "          const dataTable =\n",
              "            await google.colab.kernel.invokeFunction('convertToInteractive',\n",
              "                                                     [key], {});\n",
              "          if (!dataTable) return;\n",
              "\n",
              "          const docLinkHtml = 'Like what you see? Visit the ' +\n",
              "            '<a target=\"_blank\" href=https://colab.research.google.com/notebooks/data_table.ipynb>data table notebook</a>'\n",
              "            + ' to learn more about interactive tables.';\n",
              "          element.innerHTML = '';\n",
              "          dataTable['output_type'] = 'display_data';\n",
              "          await google.colab.output.renderOutput(dataTable, element);\n",
              "          const docLink = document.createElement('div');\n",
              "          docLink.innerHTML = docLinkHtml;\n",
              "          element.appendChild(docLink);\n",
              "        }\n",
              "      </script>\n",
              "    </div>\n",
              "  </div>\n",
              "  "
            ]
          },
          "metadata": {},
          "execution_count": 50
        }
      ]
    },
    {
      "cell_type": "code",
      "source": [
        "#Promedio de pasajeros en días festivos\n",
        "prom_pasag = df.groupby('holiday' )['traffic_volume'].mean().round(2)\n",
        "prom_pasag"
      ],
      "metadata": {
        "colab": {
          "base_uri": "https://localhost:8080/"
        },
        "id": "S78gZMFqH9r_",
        "outputId": "3c3828d9-a553-4d8c-9a03-d9ea7fe29c2c"
      },
      "execution_count": null,
      "outputs": [
        {
          "output_type": "execute_result",
          "data": {
            "text/plain": [
              "holiday\n",
              "Christmas Day                 827.50\n",
              "Columbus Day                  519.40\n",
              "Independence Day             1076.00\n",
              "Labor Day                    1013.14\n",
              "Martin Luther King Jr Day     612.67\n",
              "Memorial Day                 1107.60\n",
              "New Years Day                1356.00\n",
              "None                         3262.65\n",
              "State Fair                    634.80\n",
              "Thanksgiving Day              933.50\n",
              "Veterans Day                  691.40\n",
              "Washingtons Birthday          635.20\n",
              "Name: traffic_volume, dtype: float64"
            ]
          },
          "metadata": {},
          "execution_count": 51
        }
      ]
    },
    {
      "cell_type": "code",
      "source": [
        "import seaborn as sns"
      ],
      "metadata": {
        "id": "9irLyUtaeMYa"
      },
      "execution_count": null,
      "outputs": []
    },
    {
      "cell_type": "code",
      "source": [
        "sns.barplot(x = prom_pasag.index, y = prom_pasag.values);\n",
        "plt.xticks(rotation = 90);\n",
        "plt.xlabel('Días festivos', fontsize = 15)\n",
        "plt.ylabel('Cantidad de personas ', fontsize = 15)\n",
        "plt.title('Promedio Trafico de personas por horas en dias festivos y no festivos  ', fontsize = 15)"
      ],
      "metadata": {
        "colab": {
          "base_uri": "https://localhost:8080/",
          "height": 435
        },
        "id": "JPcLuZ0ASVze",
        "outputId": "3a86da79-8760-4752-b2be-628668a1e18d"
      },
      "execution_count": null,
      "outputs": [
        {
          "output_type": "execute_result",
          "data": {
            "text/plain": [
              "Text(0.5, 1.0, 'Promedio Trafico de personas por horas en dias festivos y no festivos  ')"
            ]
          },
          "metadata": {},
          "execution_count": 53
        },
        {
          "output_type": "display_data",
          "data": {
            "text/plain": [
              "<Figure size 432x288 with 1 Axes>"
            ],
            "image/png": "[encoded data removed]"
          },
          "metadata": {
            "needs_background": "light"
          }
        }
      ]
    },
    {
      "cell_type": "markdown",
      "source": [
        "el grafico anterior muestra que aparte de losdías que no son festivos, hay algunos festivos que en promedio se movilizan más pasajeros por hora que en otros festivos, como año nuevo "
      ],
      "metadata": {
        "id": "RRJE6PG4egao"
      }
    },
    {
      "cell_type": "code",
      "source": [
        "#filtrar por horascon trafico alto de personas \n",
        "traffic_filter = df['traffic_volume'] >= 7000\n",
        "traffic_filter"
      ],
      "metadata": {
        "colab": {
          "base_uri": "https://localhost:8080/"
        },
        "id": "VXT7SeMrIL7u",
        "outputId": "491f633f-31ec-4da2-eea3-202ab9d5883c"
      },
      "execution_count": null,
      "outputs": [
        {
          "output_type": "execute_result",
          "data": {
            "text/plain": [
              "0        False\n",
              "1        False\n",
              "2        False\n",
              "3        False\n",
              "4        False\n",
              "         ...  \n",
              "48199    False\n",
              "48200    False\n",
              "48201    False\n",
              "48202    False\n",
              "48203    False\n",
              "Name: traffic_volume, Length: 48187, dtype: bool"
            ]
          },
          "metadata": {},
          "execution_count": 54
        }
      ]
    },
    {
      "cell_type": "code",
      "source": [
        "df.loc[traffic_filter, :]"
      ],
      "metadata": {
        "colab": {
          "base_uri": "https://localhost:8080/",
          "height": 870
        },
        "id": "Kh3BgbW7IMeW",
        "outputId": "2aac0b67-cec3-45b0-a086-8e79054c5472"
      },
      "execution_count": null,
      "outputs": [
        {
          "output_type": "execute_result",
          "data": {
            "text/plain": [
              "      holiday    temp  rain_1h  snow_1h  clouds_all      weather_description  \\\n",
              "332      None  274.81      0.0      0.0          20               few clouds   \n",
              "974      None  277.41      0.0      0.0          90  light intensity drizzle   \n",
              "975      None  277.41      0.0      0.0          90                     mist   \n",
              "1189     None  278.02      0.0      0.0          75            broken clouds   \n",
              "1551     None  269.56      0.0      0.0          90          overcast clouds   \n",
              "...       ...     ...      ...      ...         ...                      ...   \n",
              "43977    None  287.93      0.0      0.0          75            broken clouds   \n",
              "44532    None  295.35      0.0      0.0          90                     haze   \n",
              "44533    None  295.35      0.0      0.0          90            moderate rain   \n",
              "44683    None  301.57      0.0      0.0           5             sky is clear   \n",
              "44707    None  298.72      0.0      0.0           1             sky is clear   \n",
              "\n",
              "                date_time  traffic_volume  month (numeric)  day of month  \\\n",
              "332   2012-10-16 07:00:00            7055               10            16   \n",
              "974   2012-11-07 07:00:00            7088               11             7   \n",
              "975   2012-11-07 07:00:00            7088               11             7   \n",
              "1189  2012-11-14 16:00:00            7189               11            14   \n",
              "1551  2012-11-29 07:00:00            7020               11            29   \n",
              "...                   ...             ...              ...           ...   \n",
              "43977 2018-05-10 16:00:00            7074                5            10   \n",
              "44532 2018-05-30 16:00:00            7042                5            30   \n",
              "44533 2018-05-30 16:00:00            7042                5            30   \n",
              "44683 2018-06-04 16:00:00            7024                6             4   \n",
              "44707 2018-06-05 16:00:00            7037                6             5   \n",
              "\n",
              "       day of week (numeric)  \n",
              "332                        1  \n",
              "974                        2  \n",
              "975                        2  \n",
              "1189                       2  \n",
              "1551                       3  \n",
              "...                      ...  \n",
              "43977                      3  \n",
              "44532                      2  \n",
              "44533                      2  \n",
              "44683                      0  \n",
              "44707                      1  \n",
              "\n",
              "[61 rows x 11 columns]"
            ],
            "text/html": [
              "\n",
              "  <div id=\"df-4c6ecbe1-37ef-4480-8f62-a1e9deea7036\">\n",
              "    <div class=\"colab-df-container\">\n",
              "      <div>\n",
              "<style scoped>\n",
              "    .dataframe tbody tr th:only-of-type {\n",
              "        vertical-align: middle;\n",
              "    }\n",
              "\n",
              "    .dataframe tbody tr th {\n",
              "        vertical-align: top;\n",
              "    }\n",
              "\n",
              "    .dataframe thead th {\n",
              "        text-align: right;\n",
              "    }\n",
              "</style>\n",
              "<table border=\"1\" class=\"dataframe\">\n",
              "  <thead>\n",
              "    <tr style=\"text-align: right;\">\n",
              "      <th></th>\n",
              "      <th>holiday</th>\n",
              "      <th>temp</th>\n",
              "      <th>rain_1h</th>\n",
              "      <th>snow_1h</th>\n",
              "      <th>clouds_all</th>\n",
              "      <th>weather_description</th>\n",
              "      <th>date_time</th>\n",
              "      <th>traffic_volume</th>\n",
              "      <th>month (numeric)</th>\n",
              "      <th>day of month</th>\n",
              "      <th>day of week (numeric)</th>\n",
              "    </tr>\n",
              "  </thead>\n",
              "  <tbody>\n",
              "    <tr>\n",
              "      <th>332</th>\n",
              "      <td>None</td>\n",
              "      <td>274.81</td>\n",
              "      <td>0.0</td>\n",
              "      <td>0.0</td>\n",
              "      <td>20</td>\n",
              "      <td>few clouds</td>\n",
              "      <td>2012-10-16 07:00:00</td>\n",
              "      <td>7055</td>\n",
              "      <td>10</td>\n",
              "      <td>16</td>\n",
              "      <td>1</td>\n",
              "    </tr>\n",
              "    <tr>\n",
              "      <th>974</th>\n",
              "      <td>None</td>\n",
              "      <td>277.41</td>\n",
              "      <td>0.0</td>\n",
              "      <td>0.0</td>\n",
              "      <td>90</td>\n",
              "      <td>light intensity drizzle</td>\n",
              "      <td>2012-11-07 07:00:00</td>\n",
              "      <td>7088</td>\n",
              "      <td>11</td>\n",
              "      <td>7</td>\n",
              "      <td>2</td>\n",
              "    </tr>\n",
              "    <tr>\n",
              "      <th>975</th>\n",
              "      <td>None</td>\n",
              "      <td>277.41</td>\n",
              "      <td>0.0</td>\n",
              "      <td>0.0</td>\n",
              "      <td>90</td>\n",
              "      <td>mist</td>\n",
              "      <td>2012-11-07 07:00:00</td>\n",
              "      <td>7088</td>\n",
              "      <td>11</td>\n",
              "      <td>7</td>\n",
              "      <td>2</td>\n",
              "    </tr>\n",
              "    <tr>\n",
              "      <th>1189</th>\n",
              "      <td>None</td>\n",
              "      <td>278.02</td>\n",
              "      <td>0.0</td>\n",
              "      <td>0.0</td>\n",
              "      <td>75</td>\n",
              "      <td>broken clouds</td>\n",
              "      <td>2012-11-14 16:00:00</td>\n",
              "      <td>7189</td>\n",
              "      <td>11</td>\n",
              "      <td>14</td>\n",
              "      <td>2</td>\n",
              "    </tr>\n",
              "    <tr>\n",
              "      <th>1551</th>\n",
              "      <td>None</td>\n",
              "      <td>269.56</td>\n",
              "      <td>0.0</td>\n",
              "      <td>0.0</td>\n",
              "      <td>90</td>\n",
              "      <td>overcast clouds</td>\n",
              "      <td>2012-11-29 07:00:00</td>\n",
              "      <td>7020</td>\n",
              "      <td>11</td>\n",
              "      <td>29</td>\n",
              "      <td>3</td>\n",
              "    </tr>\n",
              "    <tr>\n",
              "      <th>...</th>\n",
              "      <td>...</td>\n",
              "      <td>...</td>\n",
              "      <td>...</td>\n",
              "      <td>...</td>\n",
              "      <td>...</td>\n",
              "      <td>...</td>\n",
              "      <td>...</td>\n",
              "      <td>...</td>\n",
              "      <td>...</td>\n",
              "      <td>...</td>\n",
              "      <td>...</td>\n",
              "    </tr>\n",
              "    <tr>\n",
              "      <th>43977</th>\n",
              "      <td>None</td>\n",
              "      <td>287.93</td>\n",
              "      <td>0.0</td>\n",
              "      <td>0.0</td>\n",
              "      <td>75</td>\n",
              "      <td>broken clouds</td>\n",
              "      <td>2018-05-10 16:00:00</td>\n",
              "      <td>7074</td>\n",
              "      <td>5</td>\n",
              "      <td>10</td>\n",
              "      <td>3</td>\n",
              "    </tr>\n",
              "    <tr>\n",
              "      <th>44532</th>\n",
              "      <td>None</td>\n",
              "      <td>295.35</td>\n",
              "      <td>0.0</td>\n",
              "      <td>0.0</td>\n",
              "      <td>90</td>\n",
              "      <td>haze</td>\n",
              "      <td>2018-05-30 16:00:00</td>\n",
              "      <td>7042</td>\n",
              "      <td>5</td>\n",
              "      <td>30</td>\n",
              "      <td>2</td>\n",
              "    </tr>\n",
              "    <tr>\n",
              "      <th>44533</th>\n",
              "      <td>None</td>\n",
              "      <td>295.35</td>\n",
              "      <td>0.0</td>\n",
              "      <td>0.0</td>\n",
              "      <td>90</td>\n",
              "      <td>moderate rain</td>\n",
              "      <td>2018-05-30 16:00:00</td>\n",
              "      <td>7042</td>\n",
              "      <td>5</td>\n",
              "      <td>30</td>\n",
              "      <td>2</td>\n",
              "    </tr>\n",
              "    <tr>\n",
              "      <th>44683</th>\n",
              "      <td>None</td>\n",
              "      <td>301.57</td>\n",
              "      <td>0.0</td>\n",
              "      <td>0.0</td>\n",
              "      <td>5</td>\n",
              "      <td>sky is clear</td>\n",
              "      <td>2018-06-04 16:00:00</td>\n",
              "      <td>7024</td>\n",
              "      <td>6</td>\n",
              "      <td>4</td>\n",
              "      <td>0</td>\n",
              "    </tr>\n",
              "    <tr>\n",
              "      <th>44707</th>\n",
              "      <td>None</td>\n",
              "      <td>298.72</td>\n",
              "      <td>0.0</td>\n",
              "      <td>0.0</td>\n",
              "      <td>1</td>\n",
              "      <td>sky is clear</td>\n",
              "      <td>2018-06-05 16:00:00</td>\n",
              "      <td>7037</td>\n",
              "      <td>6</td>\n",
              "      <td>5</td>\n",
              "      <td>1</td>\n",
              "    </tr>\n",
              "  </tbody>\n",
              "</table>\n",
              "<p>61 rows × 11 columns</p>\n",
              "</div>\n",
              "      <button class=\"colab-df-convert\" onclick=\"convertToInteractive('df-4c6ecbe1-37ef-4480-8f62-a1e9deea7036')\"\n",
              "              title=\"Convert this dataframe to an interactive table.\"\n",
              "              style=\"display:none;\">\n",
              "        \n",
              "  <svg xmlns=\"http://www.w3.org/2000/svg\" height=\"24px\"viewBox=\"0 0 24 24\"\n",
              "       width=\"24px\">\n",
              "    <path d=\"M0 0h24v24H0V0z\" fill=\"none\"/>\n",
              "    <path d=\"M18.56 5.44l.94 2.06.94-2.06 2.06-.94-2.06-.94-.94-2.06-.94 2.06-2.06.94zm-11 1L8.5 8.5l.94-2.06 2.06-.94-2.06-.94L8.5 2.5l-.94 2.06-2.06.94zm10 10l.94 2.06.94-2.06 2.06-.94-2.06-.94-.94-2.06-.94 2.06-2.06.94z\"/><path d=\"M17.41 7.96l-1.37-1.37c-.4-.4-.92-.59-1.43-.59-.52 0-1.04.2-1.43.59L10.3 9.45l-7.72 7.72c-.78.78-.78 2.05 0 2.83L4 21.41c.39.39.9.59 1.41.59.51 0 1.02-.2 1.41-.59l7.78-7.78 2.81-2.81c.8-.78.8-2.07 0-2.86zM5.41 20L4 18.59l7.72-7.72 1.47 1.35L5.41 20z\"/>\n",
              "  </svg>\n",
              "      </button>\n",
              "      \n",
              "  <style>\n",
              "    .colab-df-container {\n",
              "      display:flex;\n",
              "      flex-wrap:wrap;\n",
              "      gap: 12px;\n",
              "    }\n",
              "\n",
              "    .colab-df-convert {\n",
              "      background-color: #E8F0FE;\n",
              "      border: none;\n",
              "      border-radius: 50%;\n",
              "      cursor: pointer;\n",
              "      display: none;\n",
              "      fill: #1967D2;\n",
              "      height: 32px;\n",
              "      padding: 0 0 0 0;\n",
              "      width: 32px;\n",
              "    }\n",
              "\n",
              "    .colab-df-convert:hover {\n",
              "      background-color: #E2EBFA;\n",
              "      box-shadow: 0px 1px 2px rgba(60, 64, 67, 0.3), 0px 1px 3px 1px rgba(60, 64, 67, 0.15);\n",
              "      fill: #174EA6;\n",
              "    }\n",
              "\n",
              "    [theme=dark] .colab-df-convert {\n",
              "      background-color: #3B4455;\n",
              "      fill: #D2E3FC;\n",
              "    }\n",
              "\n",
              "    [theme=dark] .colab-df-convert:hover {\n",
              "      background-color: #434B5C;\n",
              "      box-shadow: 0px 1px 3px 1px rgba(0, 0, 0, 0.15);\n",
              "      filter: drop-shadow(0px 1px 2px rgba(0, 0, 0, 0.3));\n",
              "      fill: #FFFFFF;\n",
              "    }\n",
              "  </style>\n",
              "\n",
              "      <script>\n",
              "        const buttonEl =\n",
              "          document.querySelector('#df-4c6ecbe1-37ef-4480-8f62-a1e9deea7036 button.colab-df-convert');\n",
              "        buttonEl.style.display =\n",
              "          google.colab.kernel.accessAllowed ? 'block' : 'none';\n",
              "\n",
              "        async function convertToInteractive(key) {\n",
              "          const element = document.querySelector('#df-4c6ecbe1-37ef-4480-8f62-a1e9deea7036');\n",
              "          const dataTable =\n",
              "            await google.colab.kernel.invokeFunction('convertToInteractive',\n",
              "                                                     [key], {});\n",
              "          if (!dataTable) return;\n",
              "\n",
              "          const docLinkHtml = 'Like what you see? Visit the ' +\n",
              "            '<a target=\"_blank\" href=https://colab.research.google.com/notebooks/data_table.ipynb>data table notebook</a>'\n",
              "            + ' to learn more about interactive tables.';\n",
              "          element.innerHTML = '';\n",
              "          dataTable['output_type'] = 'display_data';\n",
              "          await google.colab.output.renderOutput(dataTable, element);\n",
              "          const docLink = document.createElement('div');\n",
              "          docLink.innerHTML = docLinkHtml;\n",
              "          element.appendChild(docLink);\n",
              "        }\n",
              "      </script>\n",
              "    </div>\n",
              "  </div>\n",
              "  "
            ]
          },
          "metadata": {},
          "execution_count": 55
        }
      ]
    },
    {
      "cell_type": "markdown",
      "source": [
        "**Mapa de calor de Correlación**"
      ],
      "metadata": {
        "id": "ODszFrtkvJEF"
      }
    },
    {
      "cell_type": "code",
      "source": [
        "matriz_corr= df.corr()\n",
        "matriz_corr"
      ],
      "metadata": {
        "colab": {
          "base_uri": "https://localhost:8080/",
          "height": 379
        },
        "id": "oJcLmVjJ3Nh_",
        "outputId": "0e9b6561-4eb0-444a-8602-1ad2f0cc9b7c"
      },
      "execution_count": null,
      "outputs": [
        {
          "output_type": "execute_result",
          "data": {
            "text/plain": [
              "                           temp   rain_1h   snow_1h  clouds_all  \\\n",
              "temp                   1.000000  0.009070 -0.019756   -0.101968   \n",
              "rain_1h                0.009070  1.000000 -0.000090    0.004818   \n",
              "snow_1h               -0.019756 -0.000090  1.000000    0.027934   \n",
              "clouds_all            -0.101968  0.004818  0.027934    1.000000   \n",
              "traffic_volume         0.130161  0.004715  0.000736    0.067138   \n",
              "month (numeric)        0.223943  0.001300  0.020422   -0.009118   \n",
              "day of month           0.022677 -0.002293  0.015798    0.048425   \n",
              "day of week (numeric) -0.007824 -0.006920 -0.014929   -0.039816   \n",
              "\n",
              "                       traffic_volume  month (numeric)  day of month  \\\n",
              "temp                         0.130161         0.223943      0.022677   \n",
              "rain_1h                      0.004715         0.001300     -0.002293   \n",
              "snow_1h                      0.000736         0.020422      0.015798   \n",
              "clouds_all                   0.067138        -0.009118      0.048425   \n",
              "traffic_volume               1.000000        -0.002480     -0.007760   \n",
              "month (numeric)             -0.002480         1.000000      0.008686   \n",
              "day of month                -0.007760         0.008686      1.000000   \n",
              "day of week (numeric)       -0.149551         0.010762      0.008627   \n",
              "\n",
              "                       day of week (numeric)  \n",
              "temp                               -0.007824  \n",
              "rain_1h                            -0.006920  \n",
              "snow_1h                            -0.014929  \n",
              "clouds_all                         -0.039816  \n",
              "traffic_volume                     -0.149551  \n",
              "month (numeric)                     0.010762  \n",
              "day of month                        0.008627  \n",
              "day of week (numeric)               1.000000  "
            ],
            "text/html": [
              "\n",
              "  <div id=\"df-882363c1-eb82-4a8f-9f1a-9906225c8be9\">\n",
              "    <div class=\"colab-df-container\">\n",
              "      <div>\n",
              "<style scoped>\n",
              "    .dataframe tbody tr th:only-of-type {\n",
              "        vertical-align: middle;\n",
              "    }\n",
              "\n",
              "    .dataframe tbody tr th {\n",
              "        vertical-align: top;\n",
              "    }\n",
              "\n",
              "    .dataframe thead th {\n",
              "        text-align: right;\n",
              "    }\n",
              "</style>\n",
              "<table border=\"1\" class=\"dataframe\">\n",
              "  <thead>\n",
              "    <tr style=\"text-align: right;\">\n",
              "      <th></th>\n",
              "      <th>temp</th>\n",
              "      <th>rain_1h</th>\n",
              "      <th>snow_1h</th>\n",
              "      <th>clouds_all</th>\n",
              "      <th>traffic_volume</th>\n",
              "      <th>month (numeric)</th>\n",
              "      <th>day of month</th>\n",
              "      <th>day of week (numeric)</th>\n",
              "    </tr>\n",
              "  </thead>\n",
              "  <tbody>\n",
              "    <tr>\n",
              "      <th>temp</th>\n",
              "      <td>1.000000</td>\n",
              "      <td>0.009070</td>\n",
              "      <td>-0.019756</td>\n",
              "      <td>-0.101968</td>\n",
              "      <td>0.130161</td>\n",
              "      <td>0.223943</td>\n",
              "      <td>0.022677</td>\n",
              "      <td>-0.007824</td>\n",
              "    </tr>\n",
              "    <tr>\n",
              "      <th>rain_1h</th>\n",
              "      <td>0.009070</td>\n",
              "      <td>1.000000</td>\n",
              "      <td>-0.000090</td>\n",
              "      <td>0.004818</td>\n",
              "      <td>0.004715</td>\n",
              "      <td>0.001300</td>\n",
              "      <td>-0.002293</td>\n",
              "      <td>-0.006920</td>\n",
              "    </tr>\n",
              "    <tr>\n",
              "      <th>snow_1h</th>\n",
              "      <td>-0.019756</td>\n",
              "      <td>-0.000090</td>\n",
              "      <td>1.000000</td>\n",
              "      <td>0.027934</td>\n",
              "      <td>0.000736</td>\n",
              "      <td>0.020422</td>\n",
              "      <td>0.015798</td>\n",
              "      <td>-0.014929</td>\n",
              "    </tr>\n",
              "    <tr>\n",
              "      <th>clouds_all</th>\n",
              "      <td>-0.101968</td>\n",
              "      <td>0.004818</td>\n",
              "      <td>0.027934</td>\n",
              "      <td>1.000000</td>\n",
              "      <td>0.067138</td>\n",
              "      <td>-0.009118</td>\n",
              "      <td>0.048425</td>\n",
              "      <td>-0.039816</td>\n",
              "    </tr>\n",
              "    <tr>\n",
              "      <th>traffic_volume</th>\n",
              "      <td>0.130161</td>\n",
              "      <td>0.004715</td>\n",
              "      <td>0.000736</td>\n",
              "      <td>0.067138</td>\n",
              "      <td>1.000000</td>\n",
              "      <td>-0.002480</td>\n",
              "      <td>-0.007760</td>\n",
              "      <td>-0.149551</td>\n",
              "    </tr>\n",
              "    <tr>\n",
              "      <th>month (numeric)</th>\n",
              "      <td>0.223943</td>\n",
              "      <td>0.001300</td>\n",
              "      <td>0.020422</td>\n",
              "      <td>-0.009118</td>\n",
              "      <td>-0.002480</td>\n",
              "      <td>1.000000</td>\n",
              "      <td>0.008686</td>\n",
              "      <td>0.010762</td>\n",
              "    </tr>\n",
              "    <tr>\n",
              "      <th>day of month</th>\n",
              "      <td>0.022677</td>\n",
              "      <td>-0.002293</td>\n",
              "      <td>0.015798</td>\n",
              "      <td>0.048425</td>\n",
              "      <td>-0.007760</td>\n",
              "      <td>0.008686</td>\n",
              "      <td>1.000000</td>\n",
              "      <td>0.008627</td>\n",
              "    </tr>\n",
              "    <tr>\n",
              "      <th>day of week (numeric)</th>\n",
              "      <td>-0.007824</td>\n",
              "      <td>-0.006920</td>\n",
              "      <td>-0.014929</td>\n",
              "      <td>-0.039816</td>\n",
              "      <td>-0.149551</td>\n",
              "      <td>0.010762</td>\n",
              "      <td>0.008627</td>\n",
              "      <td>1.000000</td>\n",
              "    </tr>\n",
              "  </tbody>\n",
              "</table>\n",
              "</div>\n",
              "      <button class=\"colab-df-convert\" onclick=\"convertToInteractive('df-882363c1-eb82-4a8f-9f1a-9906225c8be9')\"\n",
              "              title=\"Convert this dataframe to an interactive table.\"\n",
              "              style=\"display:none;\">\n",
              "        \n",
              "  <svg xmlns=\"http://www.w3.org/2000/svg\" height=\"24px\"viewBox=\"0 0 24 24\"\n",
              "       width=\"24px\">\n",
              "    <path d=\"M0 0h24v24H0V0z\" fill=\"none\"/>\n",
              "    <path d=\"M18.56 5.44l.94 2.06.94-2.06 2.06-.94-2.06-.94-.94-2.06-.94 2.06-2.06.94zm-11 1L8.5 8.5l.94-2.06 2.06-.94-2.06-.94L8.5 2.5l-.94 2.06-2.06.94zm10 10l.94 2.06.94-2.06 2.06-.94-2.06-.94-.94-2.06-.94 2.06-2.06.94z\"/><path d=\"M17.41 7.96l-1.37-1.37c-.4-.4-.92-.59-1.43-.59-.52 0-1.04.2-1.43.59L10.3 9.45l-7.72 7.72c-.78.78-.78 2.05 0 2.83L4 21.41c.39.39.9.59 1.41.59.51 0 1.02-.2 1.41-.59l7.78-7.78 2.81-2.81c.8-.78.8-2.07 0-2.86zM5.41 20L4 18.59l7.72-7.72 1.47 1.35L5.41 20z\"/>\n",
              "  </svg>\n",
              "      </button>\n",
              "      \n",
              "  <style>\n",
              "    .colab-df-container {\n",
              "      display:flex;\n",
              "      flex-wrap:wrap;\n",
              "      gap: 12px;\n",
              "    }\n",
              "\n",
              "    .colab-df-convert {\n",
              "      background-color: #E8F0FE;\n",
              "      border: none;\n",
              "      border-radius: 50%;\n",
              "      cursor: pointer;\n",
              "      display: none;\n",
              "      fill: #1967D2;\n",
              "      height: 32px;\n",
              "      padding: 0 0 0 0;\n",
              "      width: 32px;\n",
              "    }\n",
              "\n",
              "    .colab-df-convert:hover {\n",
              "      background-color: #E2EBFA;\n",
              "      box-shadow: 0px 1px 2px rgba(60, 64, 67, 0.3), 0px 1px 3px 1px rgba(60, 64, 67, 0.15);\n",
              "      fill: #174EA6;\n",
              "    }\n",
              "\n",
              "    [theme=dark] .colab-df-convert {\n",
              "      background-color: #3B4455;\n",
              "      fill: #D2E3FC;\n",
              "    }\n",
              "\n",
              "    [theme=dark] .colab-df-convert:hover {\n",
              "      background-color: #434B5C;\n",
              "      box-shadow: 0px 1px 3px 1px rgba(0, 0, 0, 0.15);\n",
              "      filter: drop-shadow(0px 1px 2px rgba(0, 0, 0, 0.3));\n",
              "      fill: #FFFFFF;\n",
              "    }\n",
              "  </style>\n",
              "\n",
              "      <script>\n",
              "        const buttonEl =\n",
              "          document.querySelector('#df-882363c1-eb82-4a8f-9f1a-9906225c8be9 button.colab-df-convert');\n",
              "        buttonEl.style.display =\n",
              "          google.colab.kernel.accessAllowed ? 'block' : 'none';\n",
              "\n",
              "        async function convertToInteractive(key) {\n",
              "          const element = document.querySelector('#df-882363c1-eb82-4a8f-9f1a-9906225c8be9');\n",
              "          const dataTable =\n",
              "            await google.colab.kernel.invokeFunction('convertToInteractive',\n",
              "                                                     [key], {});\n",
              "          if (!dataTable) return;\n",
              "\n",
              "          const docLinkHtml = 'Like what you see? Visit the ' +\n",
              "            '<a target=\"_blank\" href=https://colab.research.google.com/notebooks/data_table.ipynb>data table notebook</a>'\n",
              "            + ' to learn more about interactive tables.';\n",
              "          element.innerHTML = '';\n",
              "          dataTable['output_type'] = 'display_data';\n",
              "          await google.colab.output.renderOutput(dataTable, element);\n",
              "          const docLink = document.createElement('div');\n",
              "          docLink.innerHTML = docLinkHtml;\n",
              "          element.appendChild(docLink);\n",
              "        }\n",
              "      </script>\n",
              "    </div>\n",
              "  </div>\n",
              "  "
            ]
          },
          "metadata": {},
          "execution_count": 56
        }
      ]
    },
    {
      "cell_type": "code",
      "source": [
        "#Matriz de Correlación\n",
        "sns.heatmap(matriz_corr, cmap = \"bwr\", annot = True)\n"
      ],
      "metadata": {
        "colab": {
          "base_uri": "https://localhost:8080/",
          "height": 389
        },
        "id": "k7ILuLJU0Hh5",
        "outputId": "bb06512e-4deb-4c01-d20b-e56d3025aac6"
      },
      "execution_count": null,
      "outputs": [
        {
          "output_type": "execute_result",
          "data": {
            "text/plain": [
              "<matplotlib.axes._subplots.AxesSubplot at 0x7f0091122dc0>"
            ]
          },
          "metadata": {},
          "execution_count": 57
        },
        {
          "output_type": "display_data",
          "data": {
            "text/plain": [
              "<Figure size 432x288 with 2 Axes>"
            ],
            "image/png": "[encoded data removed]"
          },
          "metadata": {
            "needs_background": "light"
          }
        }
      ]
    },
    {
      "cell_type": "markdown",
      "source": [
        "De acuerdo al mapade calor anterior hay una leve correlación positiva de 0.13 entre traffic_volume y temp"
      ],
      "metadata": {
        "id": "yAgvSPHH0Y-C"
      }
    },
    {
      "cell_type": "markdown",
      "source": [
        "**Aprendizaje Automatico**"
      ],
      "metadata": {
        "id": "TOsXj6GOTe7V"
      }
    },
    {
      "cell_type": "code",
      "source": [
        "# Division validación\n",
        "X = df.drop('traffic_volume', axis=1)\n",
        "y = df['traffic_volume']\n",
        "X_train, X_test, y_train, y_test = train_test_split(X, y, random_state=42)"
      ],
      "metadata": {
        "id": "jWK90C67D63j"
      },
      "execution_count": null,
      "outputs": []
    },
    {
      "cell_type": "code",
      "source": [
        "#Selectores de Columnas \n",
        "cat_selector = make_column_selector(dtype_include='object')\n",
        "num_selector = make_column_selector(dtype_include='number')"
      ],
      "metadata": {
        "id": "3yc2gxVoBHlB"
      },
      "execution_count": null,
      "outputs": []
    },
    {
      "cell_type": "code",
      "source": [
        "#instanciarlos transformadores\n",
        "\n",
        "freq_imput=SimpleImputer(strategy='most_frequent')\n",
        "median_imputer = SimpleImputer(strategy='median')\n",
        "# Scalar los datos numericos \n",
        "scaler = StandardScaler()\n",
        "\n",
        "# One Hot Encoder\n",
        "\n",
        "ohe= OneHotEncoder(handle_unknown='ignore', sparse=False)\n"
      ],
      "metadata": {
        "id": "e8i_XhpwXUap"
      },
      "execution_count": null,
      "outputs": []
    },
    {
      "cell_type": "code",
      "source": [
        "#pipeline numerico\n",
        "num_pipe = make_pipeline(median_imputer, scaler)\n",
        "num_pipe"
      ],
      "metadata": {
        "colab": {
          "base_uri": "https://localhost:8080/",
          "height": 126
        },
        "id": "q0SfW96vB2f-",
        "outputId": "c97fa1d4-365a-42c1-94b6-d6d3b56d7290"
      },
      "execution_count": null,
      "outputs": [
        {
          "output_type": "execute_result",
          "data": {
            "text/plain": [
              "Pipeline(steps=[('simpleimputer', SimpleImputer(strategy='median')),\n",
              "                ('standardscaler', StandardScaler())])"
            ],
            "text/html": [
              "<style>#sk-ad6937b2-1659-4888-8b50-ddc7e8adf335 {color: black;background-color: white;}#sk-ad6937b2-1659-4888-8b50-ddc7e8adf335 pre{padding: 0;}#sk-ad6937b2-1659-4888-8b50-ddc7e8adf335 div.sk-toggleable {background-color: white;}#sk-ad6937b2-1659-4888-8b50-ddc7e8adf335 label.sk-toggleable__label {cursor: pointer;display: block;width: 100%;margin-bottom: 0;padding: 0.3em;box-sizing: border-box;text-align: center;}#sk-ad6937b2-1659-4888-8b50-ddc7e8adf335 label.sk-toggleable__label-arrow:before {content: \"▸\";float: left;margin-right: 0.25em;color: #696969;}#sk-ad6937b2-1659-4888-8b50-ddc7e8adf335 label.sk-toggleable__label-arrow:hover:before {color: black;}#sk-ad6937b2-1659-4888-8b50-ddc7e8adf335 div.sk-estimator:hover label.sk-toggleable__label-arrow:before {color: black;}#sk-ad6937b2-1659-4888-8b50-ddc7e8adf335 div.sk-toggleable__content {max-height: 0;max-width: 0;overflow: hidden;text-align: left;background-color: #f0f8ff;}#sk-ad6937b2-1659-4888-8b50-ddc7e8adf335 div.sk-toggleable__content pre {margin: 0.2em;color: black;border-radius: 0.25em;background-color: #f0f8ff;}#sk-ad6937b2-1659-4888-8b50-ddc7e8adf335 input.sk-toggleable__control:checked~div.sk-toggleable__content {max-height: 200px;max-width: 100%;overflow: auto;}#sk-ad6937b2-1659-4888-8b50-ddc7e8adf335 input.sk-toggleable__control:checked~label.sk-toggleable__label-arrow:before {content: \"▾\";}#sk-ad6937b2-1659-4888-8b50-ddc7e8adf335 div.sk-estimator input.sk-toggleable__control:checked~label.sk-toggleable__label {background-color: #d4ebff;}#sk-ad6937b2-1659-4888-8b50-ddc7e8adf335 div.sk-label input.sk-toggleable__control:checked~label.sk-toggleable__label {background-color: #d4ebff;}#sk-ad6937b2-1659-4888-8b50-ddc7e8adf335 input.sk-hidden--visually {border: 0;clip: rect(1px 1px 1px 1px);clip: rect(1px, 1px, 1px, 1px);height: 1px;margin: -1px;overflow: hidden;padding: 0;position: absolute;width: 1px;}#sk-ad6937b2-1659-4888-8b50-ddc7e8adf335 div.sk-estimator {font-family: monospace;background-color: #f0f8ff;border: 1px dotted black;border-radius: 0.25em;box-sizing: border-box;margin-bottom: 0.5em;}#sk-ad6937b2-1659-4888-8b50-ddc7e8adf335 div.sk-estimator:hover {background-color: #d4ebff;}#sk-ad6937b2-1659-4888-8b50-ddc7e8adf335 div.sk-parallel-item::after {content: \"\";width: 100%;border-bottom: 1px solid gray;flex-grow: 1;}#sk-ad6937b2-1659-4888-8b50-ddc7e8adf335 div.sk-label:hover label.sk-toggleable__label {background-color: #d4ebff;}#sk-ad6937b2-1659-4888-8b50-ddc7e8adf335 div.sk-serial::before {content: \"\";position: absolute;border-left: 1px solid gray;box-sizing: border-box;top: 2em;bottom: 0;left: 50%;}#sk-ad6937b2-1659-4888-8b50-ddc7e8adf335 div.sk-serial {display: flex;flex-direction: column;align-items: center;background-color: white;padding-right: 0.2em;padding-left: 0.2em;}#sk-ad6937b2-1659-4888-8b50-ddc7e8adf335 div.sk-item {z-index: 1;}#sk-ad6937b2-1659-4888-8b50-ddc7e8adf335 div.sk-parallel {display: flex;align-items: stretch;justify-content: center;background-color: white;}#sk-ad6937b2-1659-4888-8b50-ddc7e8adf335 div.sk-parallel::before {content: \"\";position: absolute;border-left: 1px solid gray;box-sizing: border-box;top: 2em;bottom: 0;left: 50%;}#sk-ad6937b2-1659-4888-8b50-ddc7e8adf335 div.sk-parallel-item {display: flex;flex-direction: column;position: relative;background-color: white;}#sk-ad6937b2-1659-4888-8b50-ddc7e8adf335 div.sk-parallel-item:first-child::after {align-self: flex-end;width: 50%;}#sk-ad6937b2-1659-4888-8b50-ddc7e8adf335 div.sk-parallel-item:last-child::after {align-self: flex-start;width: 50%;}#sk-ad6937b2-1659-4888-8b50-ddc7e8adf335 div.sk-parallel-item:only-child::after {width: 0;}#sk-ad6937b2-1659-4888-8b50-ddc7e8adf335 div.sk-dashed-wrapped {border: 1px dashed gray;margin: 0 0.4em 0.5em 0.4em;box-sizing: border-box;padding-bottom: 0.4em;background-color: white;position: relative;}#sk-ad6937b2-1659-4888-8b50-ddc7e8adf335 div.sk-label label {font-family: monospace;font-weight: bold;background-color: white;display: inline-block;line-height: 1.2em;}#sk-ad6937b2-1659-4888-8b50-ddc7e8adf335 div.sk-label-container {position: relative;z-index: 2;text-align: center;}#sk-ad6937b2-1659-4888-8b50-ddc7e8adf335 div.sk-container {/* jupyter's `normalize.less` sets `[hidden] { display: none; }` but bootstrap.min.css set `[hidden] { display: none !important; }` so we also need the `!important` here to be able to override the default hidden behavior on the sphinx rendered scikit-learn.org. See: https://github.com/scikit-learn/scikit-learn/issues/21755 */display: inline-block !important;position: relative;}#sk-ad6937b2-1659-4888-8b50-ddc7e8adf335 div.sk-text-repr-fallback {display: none;}</style><div id=\"sk-ad6937b2-1659-4888-8b50-ddc7e8adf335\" class=\"sk-top-container\"><div class=\"sk-text-repr-fallback\"><pre>Pipeline(steps=[(&#x27;simpleimputer&#x27;, SimpleImputer(strategy=&#x27;median&#x27;)),\n",
              "                (&#x27;standardscaler&#x27;, StandardScaler())])</pre><b>Please rerun this cell to show the HTML repr or trust the notebook.</b></div><div class=\"sk-container\" hidden><div class=\"sk-item sk-dashed-wrapped\"><div class=\"sk-label-container\"><div class=\"sk-label sk-toggleable\"><input class=\"sk-toggleable__control sk-hidden--visually\" id=\"16d8258f-b175-4b58-b6c0-8255098874d8\" type=\"checkbox\" ><label for=\"16d8258f-b175-4b58-b6c0-8255098874d8\" class=\"sk-toggleable__label sk-toggleable__label-arrow\">Pipeline</label><div class=\"sk-toggleable__content\"><pre>Pipeline(steps=[(&#x27;simpleimputer&#x27;, SimpleImputer(strategy=&#x27;median&#x27;)),\n",
              "                (&#x27;standardscaler&#x27;, StandardScaler())])</pre></div></div></div><div class=\"sk-serial\"><div class=\"sk-item\"><div class=\"sk-estimator sk-toggleable\"><input class=\"sk-toggleable__control sk-hidden--visually\" id=\"56e7981c-b99b-497b-99d3-cd221e09fdd6\" type=\"checkbox\" ><label for=\"56e7981c-b99b-497b-99d3-cd221e09fdd6\" class=\"sk-toggleable__label sk-toggleable__label-arrow\">SimpleImputer</label><div class=\"sk-toggleable__content\"><pre>SimpleImputer(strategy=&#x27;median&#x27;)</pre></div></div></div><div class=\"sk-item\"><div class=\"sk-estimator sk-toggleable\"><input class=\"sk-toggleable__control sk-hidden--visually\" id=\"dbe43d5b-fa94-438a-a535-dc674f53df74\" type=\"checkbox\" ><label for=\"dbe43d5b-fa94-438a-a535-dc674f53df74\" class=\"sk-toggleable__label sk-toggleable__label-arrow\">StandardScaler</label><div class=\"sk-toggleable__content\"><pre>StandardScaler()</pre></div></div></div></div></div></div></div>"
            ]
          },
          "metadata": {},
          "execution_count": 95
        }
      ]
    },
    {
      "cell_type": "code",
      "source": [
        "#Pipeline categorico\n",
        "categ_pipe = make_pipeline(freq_imput, ohe)\n",
        "categ_pipe"
      ],
      "metadata": {
        "colab": {
          "base_uri": "https://localhost:8080/",
          "height": 126
        },
        "id": "zCkF4i99CIS1",
        "outputId": "322f3316-24ef-49bb-a466-d83402d4c130"
      },
      "execution_count": null,
      "outputs": [
        {
          "output_type": "execute_result",
          "data": {
            "text/plain": [
              "Pipeline(steps=[('simpleimputer', SimpleImputer(strategy='most_frequent')),\n",
              "                ('onehotencoder',\n",
              "                 OneHotEncoder(handle_unknown='ignore', sparse=False))])"
            ],
            "text/html": [
              "<style>#sk-10be6b31-8a70-4d35-b18d-5f163e076dcb {color: black;background-color: white;}#sk-10be6b31-8a70-4d35-b18d-5f163e076dcb pre{padding: 0;}#sk-10be6b31-8a70-4d35-b18d-5f163e076dcb div.sk-toggleable {background-color: white;}#sk-10be6b31-8a70-4d35-b18d-5f163e076dcb label.sk-toggleable__label {cursor: pointer;display: block;width: 100%;margin-bottom: 0;padding: 0.3em;box-sizing: border-box;text-align: center;}#sk-10be6b31-8a70-4d35-b18d-5f163e076dcb label.sk-toggleable__label-arrow:before {content: \"▸\";float: left;margin-right: 0.25em;color: #696969;}#sk-10be6b31-8a70-4d35-b18d-5f163e076dcb label.sk-toggleable__label-arrow:hover:before {color: black;}#sk-10be6b31-8a70-4d35-b18d-5f163e076dcb div.sk-estimator:hover label.sk-toggleable__label-arrow:before {color: black;}#sk-10be6b31-8a70-4d35-b18d-5f163e076dcb div.sk-toggleable__content {max-height: 0;max-width: 0;overflow: hidden;text-align: left;background-color: #f0f8ff;}#sk-10be6b31-8a70-4d35-b18d-5f163e076dcb div.sk-toggleable__content pre {margin: 0.2em;color: black;border-radius: 0.25em;background-color: #f0f8ff;}#sk-10be6b31-8a70-4d35-b18d-5f163e076dcb input.sk-toggleable__control:checked~div.sk-toggleable__content {max-height: 200px;max-width: 100%;overflow: auto;}#sk-10be6b31-8a70-4d35-b18d-5f163e076dcb input.sk-toggleable__control:checked~label.sk-toggleable__label-arrow:before {content: \"▾\";}#sk-10be6b31-8a70-4d35-b18d-5f163e076dcb div.sk-estimator input.sk-toggleable__control:checked~label.sk-toggleable__label {background-color: #d4ebff;}#sk-10be6b31-8a70-4d35-b18d-5f163e076dcb div.sk-label input.sk-toggleable__control:checked~label.sk-toggleable__label {background-color: #d4ebff;}#sk-10be6b31-8a70-4d35-b18d-5f163e076dcb input.sk-hidden--visually {border: 0;clip: rect(1px 1px 1px 1px);clip: rect(1px, 1px, 1px, 1px);height: 1px;margin: -1px;overflow: hidden;padding: 0;position: absolute;width: 1px;}#sk-10be6b31-8a70-4d35-b18d-5f163e076dcb div.sk-estimator {font-family: monospace;background-color: #f0f8ff;border: 1px dotted black;border-radius: 0.25em;box-sizing: border-box;margin-bottom: 0.5em;}#sk-10be6b31-8a70-4d35-b18d-5f163e076dcb div.sk-estimator:hover {background-color: #d4ebff;}#sk-10be6b31-8a70-4d35-b18d-5f163e076dcb div.sk-parallel-item::after {content: \"\";width: 100%;border-bottom: 1px solid gray;flex-grow: 1;}#sk-10be6b31-8a70-4d35-b18d-5f163e076dcb div.sk-label:hover label.sk-toggleable__label {background-color: #d4ebff;}#sk-10be6b31-8a70-4d35-b18d-5f163e076dcb div.sk-serial::before {content: \"\";position: absolute;border-left: 1px solid gray;box-sizing: border-box;top: 2em;bottom: 0;left: 50%;}#sk-10be6b31-8a70-4d35-b18d-5f163e076dcb div.sk-serial {display: flex;flex-direction: column;align-items: center;background-color: white;padding-right: 0.2em;padding-left: 0.2em;}#sk-10be6b31-8a70-4d35-b18d-5f163e076dcb div.sk-item {z-index: 1;}#sk-10be6b31-8a70-4d35-b18d-5f163e076dcb div.sk-parallel {display: flex;align-items: stretch;justify-content: center;background-color: white;}#sk-10be6b31-8a70-4d35-b18d-5f163e076dcb div.sk-parallel::before {content: \"\";position: absolute;border-left: 1px solid gray;box-sizing: border-box;top: 2em;bottom: 0;left: 50%;}#sk-10be6b31-8a70-4d35-b18d-5f163e076dcb div.sk-parallel-item {display: flex;flex-direction: column;position: relative;background-color: white;}#sk-10be6b31-8a70-4d35-b18d-5f163e076dcb div.sk-parallel-item:first-child::after {align-self: flex-end;width: 50%;}#sk-10be6b31-8a70-4d35-b18d-5f163e076dcb div.sk-parallel-item:last-child::after {align-self: flex-start;width: 50%;}#sk-10be6b31-8a70-4d35-b18d-5f163e076dcb div.sk-parallel-item:only-child::after {width: 0;}#sk-10be6b31-8a70-4d35-b18d-5f163e076dcb div.sk-dashed-wrapped {border: 1px dashed gray;margin: 0 0.4em 0.5em 0.4em;box-sizing: border-box;padding-bottom: 0.4em;background-color: white;position: relative;}#sk-10be6b31-8a70-4d35-b18d-5f163e076dcb div.sk-label label {font-family: monospace;font-weight: bold;background-color: white;display: inline-block;line-height: 1.2em;}#sk-10be6b31-8a70-4d35-b18d-5f163e076dcb div.sk-label-container {position: relative;z-index: 2;text-align: center;}#sk-10be6b31-8a70-4d35-b18d-5f163e076dcb div.sk-container {/* jupyter's `normalize.less` sets `[hidden] { display: none; }` but bootstrap.min.css set `[hidden] { display: none !important; }` so we also need the `!important` here to be able to override the default hidden behavior on the sphinx rendered scikit-learn.org. See: https://github.com/scikit-learn/scikit-learn/issues/21755 */display: inline-block !important;position: relative;}#sk-10be6b31-8a70-4d35-b18d-5f163e076dcb div.sk-text-repr-fallback {display: none;}</style><div id=\"sk-10be6b31-8a70-4d35-b18d-5f163e076dcb\" class=\"sk-top-container\"><div class=\"sk-text-repr-fallback\"><pre>Pipeline(steps=[(&#x27;simpleimputer&#x27;, SimpleImputer(strategy=&#x27;most_frequent&#x27;)),\n",
              "                (&#x27;onehotencoder&#x27;,\n",
              "                 OneHotEncoder(handle_unknown=&#x27;ignore&#x27;, sparse=False))])</pre><b>Please rerun this cell to show the HTML repr or trust the notebook.</b></div><div class=\"sk-container\" hidden><div class=\"sk-item sk-dashed-wrapped\"><div class=\"sk-label-container\"><div class=\"sk-label sk-toggleable\"><input class=\"sk-toggleable__control sk-hidden--visually\" id=\"62a9b46a-90e2-4c16-976f-0c7ad8724f29\" type=\"checkbox\" ><label for=\"62a9b46a-90e2-4c16-976f-0c7ad8724f29\" class=\"sk-toggleable__label sk-toggleable__label-arrow\">Pipeline</label><div class=\"sk-toggleable__content\"><pre>Pipeline(steps=[(&#x27;simpleimputer&#x27;, SimpleImputer(strategy=&#x27;most_frequent&#x27;)),\n",
              "                (&#x27;onehotencoder&#x27;,\n",
              "                 OneHotEncoder(handle_unknown=&#x27;ignore&#x27;, sparse=False))])</pre></div></div></div><div class=\"sk-serial\"><div class=\"sk-item\"><div class=\"sk-estimator sk-toggleable\"><input class=\"sk-toggleable__control sk-hidden--visually\" id=\"bec80b00-a6ad-4160-aa50-eb1b162872a3\" type=\"checkbox\" ><label for=\"bec80b00-a6ad-4160-aa50-eb1b162872a3\" class=\"sk-toggleable__label sk-toggleable__label-arrow\">SimpleImputer</label><div class=\"sk-toggleable__content\"><pre>SimpleImputer(strategy=&#x27;most_frequent&#x27;)</pre></div></div></div><div class=\"sk-item\"><div class=\"sk-estimator sk-toggleable\"><input class=\"sk-toggleable__control sk-hidden--visually\" id=\"7dddcda2-bec7-479e-b37e-148fd6be9066\" type=\"checkbox\" ><label for=\"7dddcda2-bec7-479e-b37e-148fd6be9066\" class=\"sk-toggleable__label sk-toggleable__label-arrow\">OneHotEncoder</label><div class=\"sk-toggleable__content\"><pre>OneHotEncoder(handle_unknown=&#x27;ignore&#x27;, sparse=False)</pre></div></div></div></div></div></div></div>"
            ]
          },
          "metadata": {},
          "execution_count": 96
        }
      ]
    },
    {
      "cell_type": "code",
      "source": [
        "# tuplas para column transformer \n",
        "num_tuple = (num_pipe, num_selector)\n",
        "cat_tuple= (categ_pipe, cat_selector)"
      ],
      "metadata": {
        "id": "VJqSnBE5CedF"
      },
      "execution_count": null,
      "outputs": []
    },
    {
      "cell_type": "code",
      "source": [
        "#columntransformer\n",
        "\n",
        "preprocessor = make_column_transformer(num_tuple,cat_tuple)\n",
        "preprocessor"
      ],
      "metadata": {
        "colab": {
          "base_uri": "https://localhost:8080/",
          "height": 152
        },
        "id": "A1dy-LrZCDNf",
        "outputId": "d21f708b-3719-4001-9b56-1376e86903d9"
      },
      "execution_count": null,
      "outputs": [
        {
          "output_type": "execute_result",
          "data": {
            "text/plain": [
              "ColumnTransformer(transformers=[('pipeline-1',\n",
              "                                 Pipeline(steps=[('simpleimputer',\n",
              "                                                  SimpleImputer(strategy='median')),\n",
              "                                                 ('standardscaler',\n",
              "                                                  StandardScaler())]),\n",
              "                                 <sklearn.compose._column_transformer.make_column_selector object at 0x7f0090fecc40>),\n",
              "                                ('pipeline-2',\n",
              "                                 Pipeline(steps=[('simpleimputer',\n",
              "                                                  SimpleImputer(strategy='most_frequent')),\n",
              "                                                 ('onehotencoder',\n",
              "                                                  OneHotEncoder(handle_unknown='ignore',\n",
              "                                                                sparse=False))]),\n",
              "                                 <sklearn.compose._column_transformer.make_column_selector object at 0x7f0090fec8e0>)])"
            ],
            "text/html": [
              "<style>#sk-f4b2da25-6b61-46e5-af45-8d95b18ab3f0 {color: black;background-color: white;}#sk-f4b2da25-6b61-46e5-af45-8d95b18ab3f0 pre{padding: 0;}#sk-f4b2da25-6b61-46e5-af45-8d95b18ab3f0 div.sk-toggleable {background-color: white;}#sk-f4b2da25-6b61-46e5-af45-8d95b18ab3f0 label.sk-toggleable__label {cursor: pointer;display: block;width: 100%;margin-bottom: 0;padding: 0.3em;box-sizing: border-box;text-align: center;}#sk-f4b2da25-6b61-46e5-af45-8d95b18ab3f0 label.sk-toggleable__label-arrow:before {content: \"▸\";float: left;margin-right: 0.25em;color: #696969;}#sk-f4b2da25-6b61-46e5-af45-8d95b18ab3f0 label.sk-toggleable__label-arrow:hover:before {color: black;}#sk-f4b2da25-6b61-46e5-af45-8d95b18ab3f0 div.sk-estimator:hover label.sk-toggleable__label-arrow:before {color: black;}#sk-f4b2da25-6b61-46e5-af45-8d95b18ab3f0 div.sk-toggleable__content {max-height: 0;max-width: 0;overflow: hidden;text-align: left;background-color: #f0f8ff;}#sk-f4b2da25-6b61-46e5-af45-8d95b18ab3f0 div.sk-toggleable__content pre {margin: 0.2em;color: black;border-radius: 0.25em;background-color: #f0f8ff;}#sk-f4b2da25-6b61-46e5-af45-8d95b18ab3f0 input.sk-toggleable__control:checked~div.sk-toggleable__content {max-height: 200px;max-width: 100%;overflow: auto;}#sk-f4b2da25-6b61-46e5-af45-8d95b18ab3f0 input.sk-toggleable__control:checked~label.sk-toggleable__label-arrow:before {content: \"▾\";}#sk-f4b2da25-6b61-46e5-af45-8d95b18ab3f0 div.sk-estimator input.sk-toggleable__control:checked~label.sk-toggleable__label {background-color: #d4ebff;}#sk-f4b2da25-6b61-46e5-af45-8d95b18ab3f0 div.sk-label input.sk-toggleable__control:checked~label.sk-toggleable__label {background-color: #d4ebff;}#sk-f4b2da25-6b61-46e5-af45-8d95b18ab3f0 input.sk-hidden--visually {border: 0;clip: rect(1px 1px 1px 1px);clip: rect(1px, 1px, 1px, 1px);height: 1px;margin: -1px;overflow: hidden;padding: 0;position: absolute;width: 1px;}#sk-f4b2da25-6b61-46e5-af45-8d95b18ab3f0 div.sk-estimator {font-family: monospace;background-color: #f0f8ff;border: 1px dotted black;border-radius: 0.25em;box-sizing: border-box;margin-bottom: 0.5em;}#sk-f4b2da25-6b61-46e5-af45-8d95b18ab3f0 div.sk-estimator:hover {background-color: #d4ebff;}#sk-f4b2da25-6b61-46e5-af45-8d95b18ab3f0 div.sk-parallel-item::after {content: \"\";width: 100%;border-bottom: 1px solid gray;flex-grow: 1;}#sk-f4b2da25-6b61-46e5-af45-8d95b18ab3f0 div.sk-label:hover label.sk-toggleable__label {background-color: #d4ebff;}#sk-f4b2da25-6b61-46e5-af45-8d95b18ab3f0 div.sk-serial::before {content: \"\";position: absolute;border-left: 1px solid gray;box-sizing: border-box;top: 2em;bottom: 0;left: 50%;}#sk-f4b2da25-6b61-46e5-af45-8d95b18ab3f0 div.sk-serial {display: flex;flex-direction: column;align-items: center;background-color: white;padding-right: 0.2em;padding-left: 0.2em;}#sk-f4b2da25-6b61-46e5-af45-8d95b18ab3f0 div.sk-item {z-index: 1;}#sk-f4b2da25-6b61-46e5-af45-8d95b18ab3f0 div.sk-parallel {display: flex;align-items: stretch;justify-content: center;background-color: white;}#sk-f4b2da25-6b61-46e5-af45-8d95b18ab3f0 div.sk-parallel::before {content: \"\";position: absolute;border-left: 1px solid gray;box-sizing: border-box;top: 2em;bottom: 0;left: 50%;}#sk-f4b2da25-6b61-46e5-af45-8d95b18ab3f0 div.sk-parallel-item {display: flex;flex-direction: column;position: relative;background-color: white;}#sk-f4b2da25-6b61-46e5-af45-8d95b18ab3f0 div.sk-parallel-item:first-child::after {align-self: flex-end;width: 50%;}#sk-f4b2da25-6b61-46e5-af45-8d95b18ab3f0 div.sk-parallel-item:last-child::after {align-self: flex-start;width: 50%;}#sk-f4b2da25-6b61-46e5-af45-8d95b18ab3f0 div.sk-parallel-item:only-child::after {width: 0;}#sk-f4b2da25-6b61-46e5-af45-8d95b18ab3f0 div.sk-dashed-wrapped {border: 1px dashed gray;margin: 0 0.4em 0.5em 0.4em;box-sizing: border-box;padding-bottom: 0.4em;background-color: white;position: relative;}#sk-f4b2da25-6b61-46e5-af45-8d95b18ab3f0 div.sk-label label {font-family: monospace;font-weight: bold;background-color: white;display: inline-block;line-height: 1.2em;}#sk-f4b2da25-6b61-46e5-af45-8d95b18ab3f0 div.sk-label-container {position: relative;z-index: 2;text-align: center;}#sk-f4b2da25-6b61-46e5-af45-8d95b18ab3f0 div.sk-container {/* jupyter's `normalize.less` sets `[hidden] { display: none; }` but bootstrap.min.css set `[hidden] { display: none !important; }` so we also need the `!important` here to be able to override the default hidden behavior on the sphinx rendered scikit-learn.org. See: https://github.com/scikit-learn/scikit-learn/issues/21755 */display: inline-block !important;position: relative;}#sk-f4b2da25-6b61-46e5-af45-8d95b18ab3f0 div.sk-text-repr-fallback {display: none;}</style><div id=\"sk-f4b2da25-6b61-46e5-af45-8d95b18ab3f0\" class=\"sk-top-container\"><div class=\"sk-text-repr-fallback\"><pre>ColumnTransformer(transformers=[(&#x27;pipeline-1&#x27;,\n",
              "                                 Pipeline(steps=[(&#x27;simpleimputer&#x27;,\n",
              "                                                  SimpleImputer(strategy=&#x27;median&#x27;)),\n",
              "                                                 (&#x27;standardscaler&#x27;,\n",
              "                                                  StandardScaler())]),\n",
              "                                 &lt;sklearn.compose._column_transformer.make_column_selector object at 0x7f0090fecc40&gt;),\n",
              "                                (&#x27;pipeline-2&#x27;,\n",
              "                                 Pipeline(steps=[(&#x27;simpleimputer&#x27;,\n",
              "                                                  SimpleImputer(strategy=&#x27;most_frequent&#x27;)),\n",
              "                                                 (&#x27;onehotencoder&#x27;,\n",
              "                                                  OneHotEncoder(handle_unknown=&#x27;ignore&#x27;,\n",
              "                                                                sparse=False))]),\n",
              "                                 &lt;sklearn.compose._column_transformer.make_column_selector object at 0x7f0090fec8e0&gt;)])</pre><b>Please rerun this cell to show the HTML repr or trust the notebook.</b></div><div class=\"sk-container\" hidden><div class=\"sk-item sk-dashed-wrapped\"><div class=\"sk-label-container\"><div class=\"sk-label sk-toggleable\"><input class=\"sk-toggleable__control sk-hidden--visually\" id=\"490ca26c-71eb-4efb-95ed-51913c649eb4\" type=\"checkbox\" ><label for=\"490ca26c-71eb-4efb-95ed-51913c649eb4\" class=\"sk-toggleable__label sk-toggleable__label-arrow\">ColumnTransformer</label><div class=\"sk-toggleable__content\"><pre>ColumnTransformer(transformers=[(&#x27;pipeline-1&#x27;,\n",
              "                                 Pipeline(steps=[(&#x27;simpleimputer&#x27;,\n",
              "                                                  SimpleImputer(strategy=&#x27;median&#x27;)),\n",
              "                                                 (&#x27;standardscaler&#x27;,\n",
              "                                                  StandardScaler())]),\n",
              "                                 &lt;sklearn.compose._column_transformer.make_column_selector object at 0x7f0090fecc40&gt;),\n",
              "                                (&#x27;pipeline-2&#x27;,\n",
              "                                 Pipeline(steps=[(&#x27;simpleimputer&#x27;,\n",
              "                                                  SimpleImputer(strategy=&#x27;most_frequent&#x27;)),\n",
              "                                                 (&#x27;onehotencoder&#x27;,\n",
              "                                                  OneHotEncoder(handle_unknown=&#x27;ignore&#x27;,\n",
              "                                                                sparse=False))]),\n",
              "                                 &lt;sklearn.compose._column_transformer.make_column_selector object at 0x7f0090fec8e0&gt;)])</pre></div></div></div><div class=\"sk-parallel\"><div class=\"sk-parallel-item\"><div class=\"sk-item\"><div class=\"sk-label-container\"><div class=\"sk-label sk-toggleable\"><input class=\"sk-toggleable__control sk-hidden--visually\" id=\"023a08ba-0c1a-4d5f-9ff2-a8123c4165b1\" type=\"checkbox\" ><label for=\"023a08ba-0c1a-4d5f-9ff2-a8123c4165b1\" class=\"sk-toggleable__label sk-toggleable__label-arrow\">pipeline-1</label><div class=\"sk-toggleable__content\"><pre>&lt;sklearn.compose._column_transformer.make_column_selector object at 0x7f0090fecc40&gt;</pre></div></div></div><div class=\"sk-serial\"><div class=\"sk-item\"><div class=\"sk-serial\"><div class=\"sk-item\"><div class=\"sk-estimator sk-toggleable\"><input class=\"sk-toggleable__control sk-hidden--visually\" id=\"5dc22068-bcbe-495d-812e-91d97b03bbb2\" type=\"checkbox\" ><label for=\"5dc22068-bcbe-495d-812e-91d97b03bbb2\" class=\"sk-toggleable__label sk-toggleable__label-arrow\">SimpleImputer</label><div class=\"sk-toggleable__content\"><pre>SimpleImputer(strategy=&#x27;median&#x27;)</pre></div></div></div><div class=\"sk-item\"><div class=\"sk-estimator sk-toggleable\"><input class=\"sk-toggleable__control sk-hidden--visually\" id=\"b38ba06b-ccaf-4353-9b85-1d4a357acb13\" type=\"checkbox\" ><label for=\"b38ba06b-ccaf-4353-9b85-1d4a357acb13\" class=\"sk-toggleable__label sk-toggleable__label-arrow\">StandardScaler</label><div class=\"sk-toggleable__content\"><pre>StandardScaler()</pre></div></div></div></div></div></div></div></div><div class=\"sk-parallel-item\"><div class=\"sk-item\"><div class=\"sk-label-container\"><div class=\"sk-label sk-toggleable\"><input class=\"sk-toggleable__control sk-hidden--visually\" id=\"72a5b168-96b4-4585-9f6d-764d550fb8a5\" type=\"checkbox\" ><label for=\"72a5b168-96b4-4585-9f6d-764d550fb8a5\" class=\"sk-toggleable__label sk-toggleable__label-arrow\">pipeline-2</label><div class=\"sk-toggleable__content\"><pre>&lt;sklearn.compose._column_transformer.make_column_selector object at 0x7f0090fec8e0&gt;</pre></div></div></div><div class=\"sk-serial\"><div class=\"sk-item\"><div class=\"sk-serial\"><div class=\"sk-item\"><div class=\"sk-estimator sk-toggleable\"><input class=\"sk-toggleable__control sk-hidden--visually\" id=\"b91201e2-feda-4b96-b24d-60f7a541672e\" type=\"checkbox\" ><label for=\"b91201e2-feda-4b96-b24d-60f7a541672e\" class=\"sk-toggleable__label sk-toggleable__label-arrow\">SimpleImputer</label><div class=\"sk-toggleable__content\"><pre>SimpleImputer(strategy=&#x27;most_frequent&#x27;)</pre></div></div></div><div class=\"sk-item\"><div class=\"sk-estimator sk-toggleable\"><input class=\"sk-toggleable__control sk-hidden--visually\" id=\"683d5864-fc7b-4297-a3dd-59a2d24e351e\" type=\"checkbox\" ><label for=\"683d5864-fc7b-4297-a3dd-59a2d24e351e\" class=\"sk-toggleable__label sk-toggleable__label-arrow\">OneHotEncoder</label><div class=\"sk-toggleable__content\"><pre>OneHotEncoder(handle_unknown=&#x27;ignore&#x27;, sparse=False)</pre></div></div></div></div></div></div></div></div></div></div></div></div>"
            ]
          },
          "metadata": {},
          "execution_count": 98
        }
      ]
    },
    {
      "cell_type": "code",
      "source": [
        "# Ajustar el preporcessor\n",
        "preprocessor.fit(X_train)"
      ],
      "metadata": {
        "colab": {
          "base_uri": "https://localhost:8080/",
          "height": 152
        },
        "id": "YCVGizzZEQ8B",
        "outputId": "3f36c6c3-5fc9-4690-8843-1832c04c4a76"
      },
      "execution_count": null,
      "outputs": [
        {
          "output_type": "execute_result",
          "data": {
            "text/plain": [
              "ColumnTransformer(transformers=[('pipeline-1',\n",
              "                                 Pipeline(steps=[('simpleimputer',\n",
              "                                                  SimpleImputer(strategy='median')),\n",
              "                                                 ('standardscaler',\n",
              "                                                  StandardScaler())]),\n",
              "                                 <sklearn.compose._column_transformer.make_column_selector object at 0x7f0090fecc40>),\n",
              "                                ('pipeline-2',\n",
              "                                 Pipeline(steps=[('simpleimputer',\n",
              "                                                  SimpleImputer(strategy='most_frequent')),\n",
              "                                                 ('onehotencoder',\n",
              "                                                  OneHotEncoder(handle_unknown='ignore',\n",
              "                                                                sparse=False))]),\n",
              "                                 <sklearn.compose._column_transformer.make_column_selector object at 0x7f0090fec8e0>)])"
            ],
            "text/html": [
              "<style>#sk-94f755f3-7977-4def-84bc-97edcd659e3a {color: black;background-color: white;}#sk-94f755f3-7977-4def-84bc-97edcd659e3a pre{padding: 0;}#sk-94f755f3-7977-4def-84bc-97edcd659e3a div.sk-toggleable {background-color: white;}#sk-94f755f3-7977-4def-84bc-97edcd659e3a label.sk-toggleable__label {cursor: pointer;display: block;width: 100%;margin-bottom: 0;padding: 0.3em;box-sizing: border-box;text-align: center;}#sk-94f755f3-7977-4def-84bc-97edcd659e3a label.sk-toggleable__label-arrow:before {content: \"▸\";float: left;margin-right: 0.25em;color: #696969;}#sk-94f755f3-7977-4def-84bc-97edcd659e3a label.sk-toggleable__label-arrow:hover:before {color: black;}#sk-94f755f3-7977-4def-84bc-97edcd659e3a div.sk-estimator:hover label.sk-toggleable__label-arrow:before {color: black;}#sk-94f755f3-7977-4def-84bc-97edcd659e3a div.sk-toggleable__content {max-height: 0;max-width: 0;overflow: hidden;text-align: left;background-color: #f0f8ff;}#sk-94f755f3-7977-4def-84bc-97edcd659e3a div.sk-toggleable__content pre {margin: 0.2em;color: black;border-radius: 0.25em;background-color: #f0f8ff;}#sk-94f755f3-7977-4def-84bc-97edcd659e3a input.sk-toggleable__control:checked~div.sk-toggleable__content {max-height: 200px;max-width: 100%;overflow: auto;}#sk-94f755f3-7977-4def-84bc-97edcd659e3a input.sk-toggleable__control:checked~label.sk-toggleable__label-arrow:before {content: \"▾\";}#sk-94f755f3-7977-4def-84bc-97edcd659e3a div.sk-estimator input.sk-toggleable__control:checked~label.sk-toggleable__label {background-color: #d4ebff;}#sk-94f755f3-7977-4def-84bc-97edcd659e3a div.sk-label input.sk-toggleable__control:checked~label.sk-toggleable__label {background-color: #d4ebff;}#sk-94f755f3-7977-4def-84bc-97edcd659e3a input.sk-hidden--visually {border: 0;clip: rect(1px 1px 1px 1px);clip: rect(1px, 1px, 1px, 1px);height: 1px;margin: -1px;overflow: hidden;padding: 0;position: absolute;width: 1px;}#sk-94f755f3-7977-4def-84bc-97edcd659e3a div.sk-estimator {font-family: monospace;background-color: #f0f8ff;border: 1px dotted black;border-radius: 0.25em;box-sizing: border-box;margin-bottom: 0.5em;}#sk-94f755f3-7977-4def-84bc-97edcd659e3a div.sk-estimator:hover {background-color: #d4ebff;}#sk-94f755f3-7977-4def-84bc-97edcd659e3a div.sk-parallel-item::after {content: \"\";width: 100%;border-bottom: 1px solid gray;flex-grow: 1;}#sk-94f755f3-7977-4def-84bc-97edcd659e3a div.sk-label:hover label.sk-toggleable__label {background-color: #d4ebff;}#sk-94f755f3-7977-4def-84bc-97edcd659e3a div.sk-serial::before {content: \"\";position: absolute;border-left: 1px solid gray;box-sizing: border-box;top: 2em;bottom: 0;left: 50%;}#sk-94f755f3-7977-4def-84bc-97edcd659e3a div.sk-serial {display: flex;flex-direction: column;align-items: center;background-color: white;padding-right: 0.2em;padding-left: 0.2em;}#sk-94f755f3-7977-4def-84bc-97edcd659e3a div.sk-item {z-index: 1;}#sk-94f755f3-7977-4def-84bc-97edcd659e3a div.sk-parallel {display: flex;align-items: stretch;justify-content: center;background-color: white;}#sk-94f755f3-7977-4def-84bc-97edcd659e3a div.sk-parallel::before {content: \"\";position: absolute;border-left: 1px solid gray;box-sizing: border-box;top: 2em;bottom: 0;left: 50%;}#sk-94f755f3-7977-4def-84bc-97edcd659e3a div.sk-parallel-item {display: flex;flex-direction: column;position: relative;background-color: white;}#sk-94f755f3-7977-4def-84bc-97edcd659e3a div.sk-parallel-item:first-child::after {align-self: flex-end;width: 50%;}#sk-94f755f3-7977-4def-84bc-97edcd659e3a div.sk-parallel-item:last-child::after {align-self: flex-start;width: 50%;}#sk-94f755f3-7977-4def-84bc-97edcd659e3a div.sk-parallel-item:only-child::after {width: 0;}#sk-94f755f3-7977-4def-84bc-97edcd659e3a div.sk-dashed-wrapped {border: 1px dashed gray;margin: 0 0.4em 0.5em 0.4em;box-sizing: border-box;padding-bottom: 0.4em;background-color: white;position: relative;}#sk-94f755f3-7977-4def-84bc-97edcd659e3a div.sk-label label {font-family: monospace;font-weight: bold;background-color: white;display: inline-block;line-height: 1.2em;}#sk-94f755f3-7977-4def-84bc-97edcd659e3a div.sk-label-container {position: relative;z-index: 2;text-align: center;}#sk-94f755f3-7977-4def-84bc-97edcd659e3a div.sk-container {/* jupyter's `normalize.less` sets `[hidden] { display: none; }` but bootstrap.min.css set `[hidden] { display: none !important; }` so we also need the `!important` here to be able to override the default hidden behavior on the sphinx rendered scikit-learn.org. See: https://github.com/scikit-learn/scikit-learn/issues/21755 */display: inline-block !important;position: relative;}#sk-94f755f3-7977-4def-84bc-97edcd659e3a div.sk-text-repr-fallback {display: none;}</style><div id=\"sk-94f755f3-7977-4def-84bc-97edcd659e3a\" class=\"sk-top-container\"><div class=\"sk-text-repr-fallback\"><pre>ColumnTransformer(transformers=[(&#x27;pipeline-1&#x27;,\n",
              "                                 Pipeline(steps=[(&#x27;simpleimputer&#x27;,\n",
              "                                                  SimpleImputer(strategy=&#x27;median&#x27;)),\n",
              "                                                 (&#x27;standardscaler&#x27;,\n",
              "                                                  StandardScaler())]),\n",
              "                                 &lt;sklearn.compose._column_transformer.make_column_selector object at 0x7f0090fecc40&gt;),\n",
              "                                (&#x27;pipeline-2&#x27;,\n",
              "                                 Pipeline(steps=[(&#x27;simpleimputer&#x27;,\n",
              "                                                  SimpleImputer(strategy=&#x27;most_frequent&#x27;)),\n",
              "                                                 (&#x27;onehotencoder&#x27;,\n",
              "                                                  OneHotEncoder(handle_unknown=&#x27;ignore&#x27;,\n",
              "                                                                sparse=False))]),\n",
              "                                 &lt;sklearn.compose._column_transformer.make_column_selector object at 0x7f0090fec8e0&gt;)])</pre><b>Please rerun this cell to show the HTML repr or trust the notebook.</b></div><div class=\"sk-container\" hidden><div class=\"sk-item sk-dashed-wrapped\"><div class=\"sk-label-container\"><div class=\"sk-label sk-toggleable\"><input class=\"sk-toggleable__control sk-hidden--visually\" id=\"967638ba-930d-4c9b-8c6a-feb150f893a8\" type=\"checkbox\" ><label for=\"967638ba-930d-4c9b-8c6a-feb150f893a8\" class=\"sk-toggleable__label sk-toggleable__label-arrow\">ColumnTransformer</label><div class=\"sk-toggleable__content\"><pre>ColumnTransformer(transformers=[(&#x27;pipeline-1&#x27;,\n",
              "                                 Pipeline(steps=[(&#x27;simpleimputer&#x27;,\n",
              "                                                  SimpleImputer(strategy=&#x27;median&#x27;)),\n",
              "                                                 (&#x27;standardscaler&#x27;,\n",
              "                                                  StandardScaler())]),\n",
              "                                 &lt;sklearn.compose._column_transformer.make_column_selector object at 0x7f0090fecc40&gt;),\n",
              "                                (&#x27;pipeline-2&#x27;,\n",
              "                                 Pipeline(steps=[(&#x27;simpleimputer&#x27;,\n",
              "                                                  SimpleImputer(strategy=&#x27;most_frequent&#x27;)),\n",
              "                                                 (&#x27;onehotencoder&#x27;,\n",
              "                                                  OneHotEncoder(handle_unknown=&#x27;ignore&#x27;,\n",
              "                                                                sparse=False))]),\n",
              "                                 &lt;sklearn.compose._column_transformer.make_column_selector object at 0x7f0090fec8e0&gt;)])</pre></div></div></div><div class=\"sk-parallel\"><div class=\"sk-parallel-item\"><div class=\"sk-item\"><div class=\"sk-label-container\"><div class=\"sk-label sk-toggleable\"><input class=\"sk-toggleable__control sk-hidden--visually\" id=\"d7e349fa-8580-4c23-a1ac-ae2a45fef536\" type=\"checkbox\" ><label for=\"d7e349fa-8580-4c23-a1ac-ae2a45fef536\" class=\"sk-toggleable__label sk-toggleable__label-arrow\">pipeline-1</label><div class=\"sk-toggleable__content\"><pre>&lt;sklearn.compose._column_transformer.make_column_selector object at 0x7f0090fecc40&gt;</pre></div></div></div><div class=\"sk-serial\"><div class=\"sk-item\"><div class=\"sk-serial\"><div class=\"sk-item\"><div class=\"sk-estimator sk-toggleable\"><input class=\"sk-toggleable__control sk-hidden--visually\" id=\"1d24e916-8d26-478b-84f5-9232555e1178\" type=\"checkbox\" ><label for=\"1d24e916-8d26-478b-84f5-9232555e1178\" class=\"sk-toggleable__label sk-toggleable__label-arrow\">SimpleImputer</label><div class=\"sk-toggleable__content\"><pre>SimpleImputer(strategy=&#x27;median&#x27;)</pre></div></div></div><div class=\"sk-item\"><div class=\"sk-estimator sk-toggleable\"><input class=\"sk-toggleable__control sk-hidden--visually\" id=\"b664c21e-d4b5-40ec-acea-7d74bddd30c6\" type=\"checkbox\" ><label for=\"b664c21e-d4b5-40ec-acea-7d74bddd30c6\" class=\"sk-toggleable__label sk-toggleable__label-arrow\">StandardScaler</label><div class=\"sk-toggleable__content\"><pre>StandardScaler()</pre></div></div></div></div></div></div></div></div><div class=\"sk-parallel-item\"><div class=\"sk-item\"><div class=\"sk-label-container\"><div class=\"sk-label sk-toggleable\"><input class=\"sk-toggleable__control sk-hidden--visually\" id=\"ea7f87c4-29df-4567-b5f2-6d23c9bbe66a\" type=\"checkbox\" ><label for=\"ea7f87c4-29df-4567-b5f2-6d23c9bbe66a\" class=\"sk-toggleable__label sk-toggleable__label-arrow\">pipeline-2</label><div class=\"sk-toggleable__content\"><pre>&lt;sklearn.compose._column_transformer.make_column_selector object at 0x7f0090fec8e0&gt;</pre></div></div></div><div class=\"sk-serial\"><div class=\"sk-item\"><div class=\"sk-serial\"><div class=\"sk-item\"><div class=\"sk-estimator sk-toggleable\"><input class=\"sk-toggleable__control sk-hidden--visually\" id=\"74e3b74c-c309-4123-84eb-bf1b394cadf7\" type=\"checkbox\" ><label for=\"74e3b74c-c309-4123-84eb-bf1b394cadf7\" class=\"sk-toggleable__label sk-toggleable__label-arrow\">SimpleImputer</label><div class=\"sk-toggleable__content\"><pre>SimpleImputer(strategy=&#x27;most_frequent&#x27;)</pre></div></div></div><div class=\"sk-item\"><div class=\"sk-estimator sk-toggleable\"><input class=\"sk-toggleable__control sk-hidden--visually\" id=\"cda9dc1a-9e27-4d25-b91c-704d0f490460\" type=\"checkbox\" ><label for=\"cda9dc1a-9e27-4d25-b91c-704d0f490460\" class=\"sk-toggleable__label sk-toggleable__label-arrow\">OneHotEncoder</label><div class=\"sk-toggleable__content\"><pre>OneHotEncoder(handle_unknown=&#x27;ignore&#x27;, sparse=False)</pre></div></div></div></div></div></div></div></div></div></div></div></div>"
            ]
          },
          "metadata": {},
          "execution_count": 99
        }
      ]
    },
    {
      "cell_type": "code",
      "source": [
        "x_train_proces= preprocessor.transform(X_train)\n",
        "x_test_proces= preprocessor.transform(X_test)"
      ],
      "metadata": {
        "id": "4HObyVWyEz15"
      },
      "execution_count": null,
      "outputs": []
    },
    {
      "cell_type": "markdown",
      "source": [
        "**Modelo de Regresión Lineal**"
      ],
      "metadata": {
        "id": "QKWk2f-xGUYn"
      }
    },
    {
      "cell_type": "code",
      "source": [
        "from sklearn.linear_model import LinearRegression"
      ],
      "metadata": {
        "id": "tnDZq-xmFZiZ"
      },
      "execution_count": null,
      "outputs": []
    },
    {
      "cell_type": "code",
      "source": [
        "# instanciar el modelo de regresión \n",
        "\n",
        "reg_lin = LinearRegression()"
      ],
      "metadata": {
        "id": "6iQP1jpyH6Ux"
      },
      "execution_count": null,
      "outputs": []
    },
    {
      "cell_type": "code",
      "source": [
        "#Entrenando el modelo\n",
        "reg_lin.fit(x_train_proces, y_train)"
      ],
      "metadata": {
        "colab": {
          "base_uri": "https://localhost:8080/",
          "height": 75
        },
        "id": "J7yrDGRXIjyB",
        "outputId": "05a5bd70-3c2a-40af-c5ed-aa7bcc567a8d"
      },
      "execution_count": null,
      "outputs": [
        {
          "output_type": "execute_result",
          "data": {
            "text/plain": [
              "LinearRegression()"
            ],
            "text/html": [
              "<style>#sk-853f9fc8-4d93-461f-8c64-727b8e62cf73 {color: black;background-color: white;}#sk-853f9fc8-4d93-461f-8c64-727b8e62cf73 pre{padding: 0;}#sk-853f9fc8-4d93-461f-8c64-727b8e62cf73 div.sk-toggleable {background-color: white;}#sk-853f9fc8-4d93-461f-8c64-727b8e62cf73 label.sk-toggleable__label {cursor: pointer;display: block;width: 100%;margin-bottom: 0;padding: 0.3em;box-sizing: border-box;text-align: center;}#sk-853f9fc8-4d93-461f-8c64-727b8e62cf73 label.sk-toggleable__label-arrow:before {content: \"▸\";float: left;margin-right: 0.25em;color: #696969;}#sk-853f9fc8-4d93-461f-8c64-727b8e62cf73 label.sk-toggleable__label-arrow:hover:before {color: black;}#sk-853f9fc8-4d93-461f-8c64-727b8e62cf73 div.sk-estimator:hover label.sk-toggleable__label-arrow:before {color: black;}#sk-853f9fc8-4d93-461f-8c64-727b8e62cf73 div.sk-toggleable__content {max-height: 0;max-width: 0;overflow: hidden;text-align: left;background-color: #f0f8ff;}#sk-853f9fc8-4d93-461f-8c64-727b8e62cf73 div.sk-toggleable__content pre {margin: 0.2em;color: black;border-radius: 0.25em;background-color: #f0f8ff;}#sk-853f9fc8-4d93-461f-8c64-727b8e62cf73 input.sk-toggleable__control:checked~div.sk-toggleable__content {max-height: 200px;max-width: 100%;overflow: auto;}#sk-853f9fc8-4d93-461f-8c64-727b8e62cf73 input.sk-toggleable__control:checked~label.sk-toggleable__label-arrow:before {content: \"▾\";}#sk-853f9fc8-4d93-461f-8c64-727b8e62cf73 div.sk-estimator input.sk-toggleable__control:checked~label.sk-toggleable__label {background-color: #d4ebff;}#sk-853f9fc8-4d93-461f-8c64-727b8e62cf73 div.sk-label input.sk-toggleable__control:checked~label.sk-toggleable__label {background-color: #d4ebff;}#sk-853f9fc8-4d93-461f-8c64-727b8e62cf73 input.sk-hidden--visually {border: 0;clip: rect(1px 1px 1px 1px);clip: rect(1px, 1px, 1px, 1px);height: 1px;margin: -1px;overflow: hidden;padding: 0;position: absolute;width: 1px;}#sk-853f9fc8-4d93-461f-8c64-727b8e62cf73 div.sk-estimator {font-family: monospace;background-color: #f0f8ff;border: 1px dotted black;border-radius: 0.25em;box-sizing: border-box;margin-bottom: 0.5em;}#sk-853f9fc8-4d93-461f-8c64-727b8e62cf73 div.sk-estimator:hover {background-color: #d4ebff;}#sk-853f9fc8-4d93-461f-8c64-727b8e62cf73 div.sk-parallel-item::after {content: \"\";width: 100%;border-bottom: 1px solid gray;flex-grow: 1;}#sk-853f9fc8-4d93-461f-8c64-727b8e62cf73 div.sk-label:hover label.sk-toggleable__label {background-color: #d4ebff;}#sk-853f9fc8-4d93-461f-8c64-727b8e62cf73 div.sk-serial::before {content: \"\";position: absolute;border-left: 1px solid gray;box-sizing: border-box;top: 2em;bottom: 0;left: 50%;}#sk-853f9fc8-4d93-461f-8c64-727b8e62cf73 div.sk-serial {display: flex;flex-direction: column;align-items: center;background-color: white;padding-right: 0.2em;padding-left: 0.2em;}#sk-853f9fc8-4d93-461f-8c64-727b8e62cf73 div.sk-item {z-index: 1;}#sk-853f9fc8-4d93-461f-8c64-727b8e62cf73 div.sk-parallel {display: flex;align-items: stretch;justify-content: center;background-color: white;}#sk-853f9fc8-4d93-461f-8c64-727b8e62cf73 div.sk-parallel::before {content: \"\";position: absolute;border-left: 1px solid gray;box-sizing: border-box;top: 2em;bottom: 0;left: 50%;}#sk-853f9fc8-4d93-461f-8c64-727b8e62cf73 div.sk-parallel-item {display: flex;flex-direction: column;position: relative;background-color: white;}#sk-853f9fc8-4d93-461f-8c64-727b8e62cf73 div.sk-parallel-item:first-child::after {align-self: flex-end;width: 50%;}#sk-853f9fc8-4d93-461f-8c64-727b8e62cf73 div.sk-parallel-item:last-child::after {align-self: flex-start;width: 50%;}#sk-853f9fc8-4d93-461f-8c64-727b8e62cf73 div.sk-parallel-item:only-child::after {width: 0;}#sk-853f9fc8-4d93-461f-8c64-727b8e62cf73 div.sk-dashed-wrapped {border: 1px dashed gray;margin: 0 0.4em 0.5em 0.4em;box-sizing: border-box;padding-bottom: 0.4em;background-color: white;position: relative;}#sk-853f9fc8-4d93-461f-8c64-727b8e62cf73 div.sk-label label {font-family: monospace;font-weight: bold;background-color: white;display: inline-block;line-height: 1.2em;}#sk-853f9fc8-4d93-461f-8c64-727b8e62cf73 div.sk-label-container {position: relative;z-index: 2;text-align: center;}#sk-853f9fc8-4d93-461f-8c64-727b8e62cf73 div.sk-container {/* jupyter's `normalize.less` sets `[hidden] { display: none; }` but bootstrap.min.css set `[hidden] { display: none !important; }` so we also need the `!important` here to be able to override the default hidden behavior on the sphinx rendered scikit-learn.org. See: https://github.com/scikit-learn/scikit-learn/issues/21755 */display: inline-block !important;position: relative;}#sk-853f9fc8-4d93-461f-8c64-727b8e62cf73 div.sk-text-repr-fallback {display: none;}</style><div id=\"sk-853f9fc8-4d93-461f-8c64-727b8e62cf73\" class=\"sk-top-container\"><div class=\"sk-text-repr-fallback\"><pre>LinearRegression()</pre><b>Please rerun this cell to show the HTML repr or trust the notebook.</b></div><div class=\"sk-container\" hidden><div class=\"sk-item\"><div class=\"sk-estimator sk-toggleable\"><input class=\"sk-toggleable__control sk-hidden--visually\" id=\"27e78ec4-1468-421b-a76e-4d4e2aead01f\" type=\"checkbox\" checked><label for=\"27e78ec4-1468-421b-a76e-4d4e2aead01f\" class=\"sk-toggleable__label sk-toggleable__label-arrow\">LinearRegression</label><div class=\"sk-toggleable__content\"><pre>LinearRegression()</pre></div></div></div></div></div>"
            ]
          },
          "metadata": {},
          "execution_count": 103
        }
      ]
    },
    {
      "cell_type": "code",
      "source": [
        "# obteniendo las predicciones delconjunto de entrenamiento\n",
        "train_preds = reg_lin.predict(x_train_proces)\n",
        "print('datos de entrenamiento', train_preds)\n",
        "\n",
        "# obteniendo las predicciones delconjunto de prueba\n",
        "test_preds = reg_lin.predict(x_train_proces)\n",
        "print('datos de prueba',test_preds)"
      ],
      "metadata": {
        "colab": {
          "base_uri": "https://localhost:8080/"
        },
        "id": "V4ciBgzyQSPo",
        "outputId": "5c522e92-9ada-40c8-db4d-4808a23d963a"
      },
      "execution_count": null,
      "outputs": [
        {
          "output_type": "stream",
          "name": "stdout",
          "text": [
            "datos de entrenamiento [2307.50183236 3643.26956221 3345.26993225 ... 2936.73153551 3067.52299584\n",
            " 3112.30032177]\n",
            "datos de prueba [2307.50183236 3643.26956221 3345.26993225 ... 2936.73153551 3067.52299584\n",
            " 3112.30032177]\n"
          ]
        }
      ]
    },
    {
      "cell_type": "code",
      "source": [
        "#medición del rendimiento del modelo \n",
        "train_score = reg_lin.score(x_train_proces, y_train)\n",
        "print(train_score)"
      ],
      "metadata": {
        "colab": {
          "base_uri": "https://localhost:8080/"
        },
        "id": "ldNAtEUoRANs",
        "outputId": "d860c148-0ba6-4682-cabc-e10bc9eed8b2"
      },
      "execution_count": null,
      "outputs": [
        {
          "output_type": "stream",
          "name": "stdout",
          "text": [
            "0.07321627623364257\n"
          ]
        }
      ]
    },
    {
      "cell_type": "code",
      "source": [
        "test_score = reg_lin.score(x_test_proces, y_test)\n",
        "print(test_score)"
      ],
      "metadata": {
        "colab": {
          "base_uri": "https://localhost:8080/"
        },
        "id": "hf6q-aTeRh8n",
        "outputId": "aca68533-2b34-4954-f98b-57dccb1df7b8"
      },
      "execution_count": null,
      "outputs": [
        {
          "output_type": "stream",
          "name": "stdout",
          "text": [
            "-4.447489304880591\n"
          ]
        }
      ]
    },
    {
      "cell_type": "markdown",
      "source": [
        "**Árboles de decisión (Decision Trees)**"
      ],
      "metadata": {
        "id": "dkGvTTaebZbc"
      }
    },
    {
      "cell_type": "code",
      "source": [
        "from sklearn.tree import DecisionTreeRegressor"
      ],
      "metadata": {
        "id": "OFdEH-Q9bciD"
      },
      "execution_count": null,
      "outputs": []
    },
    {
      "cell_type": "code",
      "source": [],
      "metadata": {
        "id": "liws7xf2cbFA"
      },
      "execution_count": null,
      "outputs": []
    },
    {
      "cell_type": "code",
      "source": [
        "#instanciar el modelo \n",
        "dec_tree = DecisionTreeRegressor(max_depth = 3, random_state=42)"
      ],
      "metadata": {
        "id": "KI-ZP0j3b_Jt"
      },
      "execution_count": null,
      "outputs": []
    },
    {
      "cell_type": "code",
      "source": [
        "#ajustar el modelo con los datos de entrenamiento\n",
        "\n",
        "dec_tree.fit(x_train_proces, y_train)\n"
      ],
      "metadata": {
        "colab": {
          "base_uri": "https://localhost:8080/",
          "height": 75
        },
        "id": "Fzqvxv_fctg8",
        "outputId": "10281f15-cc7a-4f11-abf4-7626c25b090d"
      },
      "execution_count": null,
      "outputs": [
        {
          "output_type": "execute_result",
          "data": {
            "text/plain": [
              "DecisionTreeRegressor(max_depth=3, random_state=42)"
            ],
            "text/html": [
              "<style>#sk-5aeb3b82-b766-43cc-b743-0c90e6d180a3 {color: black;background-color: white;}#sk-5aeb3b82-b766-43cc-b743-0c90e6d180a3 pre{padding: 0;}#sk-5aeb3b82-b766-43cc-b743-0c90e6d180a3 div.sk-toggleable {background-color: white;}#sk-5aeb3b82-b766-43cc-b743-0c90e6d180a3 label.sk-toggleable__label {cursor: pointer;display: block;width: 100%;margin-bottom: 0;padding: 0.3em;box-sizing: border-box;text-align: center;}#sk-5aeb3b82-b766-43cc-b743-0c90e6d180a3 label.sk-toggleable__label-arrow:before {content: \"▸\";float: left;margin-right: 0.25em;color: #696969;}#sk-5aeb3b82-b766-43cc-b743-0c90e6d180a3 label.sk-toggleable__label-arrow:hover:before {color: black;}#sk-5aeb3b82-b766-43cc-b743-0c90e6d180a3 div.sk-estimator:hover label.sk-toggleable__label-arrow:before {color: black;}#sk-5aeb3b82-b766-43cc-b743-0c90e6d180a3 div.sk-toggleable__content {max-height: 0;max-width: 0;overflow: hidden;text-align: left;background-color: #f0f8ff;}#sk-5aeb3b82-b766-43cc-b743-0c90e6d180a3 div.sk-toggleable__content pre {margin: 0.2em;color: black;border-radius: 0.25em;background-color: #f0f8ff;}#sk-5aeb3b82-b766-43cc-b743-0c90e6d180a3 input.sk-toggleable__control:checked~div.sk-toggleable__content {max-height: 200px;max-width: 100%;overflow: auto;}#sk-5aeb3b82-b766-43cc-b743-0c90e6d180a3 input.sk-toggleable__control:checked~label.sk-toggleable__label-arrow:before {content: \"▾\";}#sk-5aeb3b82-b766-43cc-b743-0c90e6d180a3 div.sk-estimator input.sk-toggleable__control:checked~label.sk-toggleable__label {background-color: #d4ebff;}#sk-5aeb3b82-b766-43cc-b743-0c90e6d180a3 div.sk-label input.sk-toggleable__control:checked~label.sk-toggleable__label {background-color: #d4ebff;}#sk-5aeb3b82-b766-43cc-b743-0c90e6d180a3 input.sk-hidden--visually {border: 0;clip: rect(1px 1px 1px 1px);clip: rect(1px, 1px, 1px, 1px);height: 1px;margin: -1px;overflow: hidden;padding: 0;position: absolute;width: 1px;}#sk-5aeb3b82-b766-43cc-b743-0c90e6d180a3 div.sk-estimator {font-family: monospace;background-color: #f0f8ff;border: 1px dotted black;border-radius: 0.25em;box-sizing: border-box;margin-bottom: 0.5em;}#sk-5aeb3b82-b766-43cc-b743-0c90e6d180a3 div.sk-estimator:hover {background-color: #d4ebff;}#sk-5aeb3b82-b766-43cc-b743-0c90e6d180a3 div.sk-parallel-item::after {content: \"\";width: 100%;border-bottom: 1px solid gray;flex-grow: 1;}#sk-5aeb3b82-b766-43cc-b743-0c90e6d180a3 div.sk-label:hover label.sk-toggleable__label {background-color: #d4ebff;}#sk-5aeb3b82-b766-43cc-b743-0c90e6d180a3 div.sk-serial::before {content: \"\";position: absolute;border-left: 1px solid gray;box-sizing: border-box;top: 2em;bottom: 0;left: 50%;}#sk-5aeb3b82-b766-43cc-b743-0c90e6d180a3 div.sk-serial {display: flex;flex-direction: column;align-items: center;background-color: white;padding-right: 0.2em;padding-left: 0.2em;}#sk-5aeb3b82-b766-43cc-b743-0c90e6d180a3 div.sk-item {z-index: 1;}#sk-5aeb3b82-b766-43cc-b743-0c90e6d180a3 div.sk-parallel {display: flex;align-items: stretch;justify-content: center;background-color: white;}#sk-5aeb3b82-b766-43cc-b743-0c90e6d180a3 div.sk-parallel::before {content: \"\";position: absolute;border-left: 1px solid gray;box-sizing: border-box;top: 2em;bottom: 0;left: 50%;}#sk-5aeb3b82-b766-43cc-b743-0c90e6d180a3 div.sk-parallel-item {display: flex;flex-direction: column;position: relative;background-color: white;}#sk-5aeb3b82-b766-43cc-b743-0c90e6d180a3 div.sk-parallel-item:first-child::after {align-self: flex-end;width: 50%;}#sk-5aeb3b82-b766-43cc-b743-0c90e6d180a3 div.sk-parallel-item:last-child::after {align-self: flex-start;width: 50%;}#sk-5aeb3b82-b766-43cc-b743-0c90e6d180a3 div.sk-parallel-item:only-child::after {width: 0;}#sk-5aeb3b82-b766-43cc-b743-0c90e6d180a3 div.sk-dashed-wrapped {border: 1px dashed gray;margin: 0 0.4em 0.5em 0.4em;box-sizing: border-box;padding-bottom: 0.4em;background-color: white;position: relative;}#sk-5aeb3b82-b766-43cc-b743-0c90e6d180a3 div.sk-label label {font-family: monospace;font-weight: bold;background-color: white;display: inline-block;line-height: 1.2em;}#sk-5aeb3b82-b766-43cc-b743-0c90e6d180a3 div.sk-label-container {position: relative;z-index: 2;text-align: center;}#sk-5aeb3b82-b766-43cc-b743-0c90e6d180a3 div.sk-container {/* jupyter's `normalize.less` sets `[hidden] { display: none; }` but bootstrap.min.css set `[hidden] { display: none !important; }` so we also need the `!important` here to be able to override the default hidden behavior on the sphinx rendered scikit-learn.org. See: https://github.com/scikit-learn/scikit-learn/issues/21755 */display: inline-block !important;position: relative;}#sk-5aeb3b82-b766-43cc-b743-0c90e6d180a3 div.sk-text-repr-fallback {display: none;}</style><div id=\"sk-5aeb3b82-b766-43cc-b743-0c90e6d180a3\" class=\"sk-top-container\"><div class=\"sk-text-repr-fallback\"><pre>DecisionTreeRegressor(max_depth=3, random_state=42)</pre><b>Please rerun this cell to show the HTML repr or trust the notebook.</b></div><div class=\"sk-container\" hidden><div class=\"sk-item\"><div class=\"sk-estimator sk-toggleable\"><input class=\"sk-toggleable__control sk-hidden--visually\" id=\"6dca697a-e4d2-4bc2-8dcf-9443526ef6be\" type=\"checkbox\" checked><label for=\"6dca697a-e4d2-4bc2-8dcf-9443526ef6be\" class=\"sk-toggleable__label sk-toggleable__label-arrow\">DecisionTreeRegressor</label><div class=\"sk-toggleable__content\"><pre>DecisionTreeRegressor(max_depth=3, random_state=42)</pre></div></div></div></div></div>"
            ]
          },
          "metadata": {},
          "execution_count": 155
        }
      ]
    },
    {
      "cell_type": "code",
      "source": [
        "#predicciones en los datos de entrenamiento y prueba\n",
        "train_pred_treedec= dec_tree.predict(x_train_proces)\n",
        "test_pred_treedec = dec_tree.predict(x_test_proces)\n",
        "print(train_pred_treedec)\n",
        "print(test_pred_treedec)"
      ],
      "metadata": {
        "colab": {
          "base_uri": "https://localhost:8080/"
        },
        "id": "S01aihQtdDPu",
        "outputId": "60386de9-abbe-4ccb-da46-00ae0c3ab256"
      },
      "execution_count": null,
      "outputs": [
        {
          "output_type": "stream",
          "name": "stdout",
          "text": [
            "[2027.72476126 3629.86000588 2977.0054637  ... 2977.0054637  2622.60448125\n",
            " 3060.16118421]\n",
            "[3629.86000588 2027.72476126 3629.86000588 ... 2977.0054637  2622.60448125\n",
            " 2977.0054637 ]\n"
          ]
        }
      ]
    },
    {
      "cell_type": "code",
      "source": [
        "#evaluación del modelo\n",
        "\n",
        "train_score_treedec = dec_tree.score(x_train_proces, y_train)\n",
        "test_score_treedec = dec_tree.score(x_test_proces, y_test)\n",
        "print(train_score_treedec)\n",
        "print(test_score_treedec)"
      ],
      "metadata": {
        "colab": {
          "base_uri": "https://localhost:8080/"
        },
        "id": "a0Wnsps7dpIq",
        "outputId": "5d8f53f8-6b94-4cc9-b41b-86eb117598b0"
      },
      "execution_count": null,
      "outputs": [
        {
          "output_type": "stream",
          "name": "stdout",
          "text": [
            "0.09927274695205246\n",
            "0.09132223818444352\n"
          ]
        }
      ]
    },
    {
      "cell_type": "markdown",
      "source": [
        "con el hiperparametro mas_depth = 3, mejoró mi modelo, aunque sigueteniendo un rendimiento bajo"
      ],
      "metadata": {
        "id": "VafN8kdDgqb4"
      }
    },
    {
      "cell_type": "markdown",
      "source": [
        "**Modelo Bagged Trees**"
      ],
      "metadata": {
        "id": "8MwqpaFhkU3a"
      }
    },
    {
      "cell_type": "code",
      "source": [
        "from sklearn.ensemble import BaggingRegressor"
      ],
      "metadata": {
        "id": "T57mdDI-ebo-"
      },
      "execution_count": 161,
      "outputs": []
    },
    {
      "cell_type": "code",
      "source": [
        "#instanciar el modelo\n",
        "bagreg = BaggingRegressor(random_state=42)"
      ],
      "metadata": {
        "id": "ZpBS1D1FlA1V"
      },
      "execution_count": 162,
      "outputs": []
    },
    {
      "cell_type": "code",
      "source": [
        "#Entrenar el modelo\n",
        "bagreg.fit(x_train_proces, y_train)"
      ],
      "metadata": {
        "colab": {
          "base_uri": "https://localhost:8080/",
          "height": 75
        },
        "id": "hYBEy-rylOiU",
        "outputId": "93010f75-38d3-46fa-bdc6-22b5204ada81"
      },
      "execution_count": 163,
      "outputs": [
        {
          "output_type": "execute_result",
          "data": {
            "text/plain": [
              "BaggingRegressor(random_state=42)"
            ],
            "text/html": [
              "<style>#sk-9be1aea5-3ebd-486c-a13d-1a7342e50288 {color: black;background-color: white;}#sk-9be1aea5-3ebd-486c-a13d-1a7342e50288 pre{padding: 0;}#sk-9be1aea5-3ebd-486c-a13d-1a7342e50288 div.sk-toggleable {background-color: white;}#sk-9be1aea5-3ebd-486c-a13d-1a7342e50288 label.sk-toggleable__label {cursor: pointer;display: block;width: 100%;margin-bottom: 0;padding: 0.3em;box-sizing: border-box;text-align: center;}#sk-9be1aea5-3ebd-486c-a13d-1a7342e50288 label.sk-toggleable__label-arrow:before {content: \"▸\";float: left;margin-right: 0.25em;color: #696969;}#sk-9be1aea5-3ebd-486c-a13d-1a7342e50288 label.sk-toggleable__label-arrow:hover:before {color: black;}#sk-9be1aea5-3ebd-486c-a13d-1a7342e50288 div.sk-estimator:hover label.sk-toggleable__label-arrow:before {color: black;}#sk-9be1aea5-3ebd-486c-a13d-1a7342e50288 div.sk-toggleable__content {max-height: 0;max-width: 0;overflow: hidden;text-align: left;background-color: #f0f8ff;}#sk-9be1aea5-3ebd-486c-a13d-1a7342e50288 div.sk-toggleable__content pre {margin: 0.2em;color: black;border-radius: 0.25em;background-color: #f0f8ff;}#sk-9be1aea5-3ebd-486c-a13d-1a7342e50288 input.sk-toggleable__control:checked~div.sk-toggleable__content {max-height: 200px;max-width: 100%;overflow: auto;}#sk-9be1aea5-3ebd-486c-a13d-1a7342e50288 input.sk-toggleable__control:checked~label.sk-toggleable__label-arrow:before {content: \"▾\";}#sk-9be1aea5-3ebd-486c-a13d-1a7342e50288 div.sk-estimator input.sk-toggleable__control:checked~label.sk-toggleable__label {background-color: #d4ebff;}#sk-9be1aea5-3ebd-486c-a13d-1a7342e50288 div.sk-label input.sk-toggleable__control:checked~label.sk-toggleable__label {background-color: #d4ebff;}#sk-9be1aea5-3ebd-486c-a13d-1a7342e50288 input.sk-hidden--visually {border: 0;clip: rect(1px 1px 1px 1px);clip: rect(1px, 1px, 1px, 1px);height: 1px;margin: -1px;overflow: hidden;padding: 0;position: absolute;width: 1px;}#sk-9be1aea5-3ebd-486c-a13d-1a7342e50288 div.sk-estimator {font-family: monospace;background-color: #f0f8ff;border: 1px dotted black;border-radius: 0.25em;box-sizing: border-box;margin-bottom: 0.5em;}#sk-9be1aea5-3ebd-486c-a13d-1a7342e50288 div.sk-estimator:hover {background-color: #d4ebff;}#sk-9be1aea5-3ebd-486c-a13d-1a7342e50288 div.sk-parallel-item::after {content: \"\";width: 100%;border-bottom: 1px solid gray;flex-grow: 1;}#sk-9be1aea5-3ebd-486c-a13d-1a7342e50288 div.sk-label:hover label.sk-toggleable__label {background-color: #d4ebff;}#sk-9be1aea5-3ebd-486c-a13d-1a7342e50288 div.sk-serial::before {content: \"\";position: absolute;border-left: 1px solid gray;box-sizing: border-box;top: 2em;bottom: 0;left: 50%;}#sk-9be1aea5-3ebd-486c-a13d-1a7342e50288 div.sk-serial {display: flex;flex-direction: column;align-items: center;background-color: white;padding-right: 0.2em;padding-left: 0.2em;}#sk-9be1aea5-3ebd-486c-a13d-1a7342e50288 div.sk-item {z-index: 1;}#sk-9be1aea5-3ebd-486c-a13d-1a7342e50288 div.sk-parallel {display: flex;align-items: stretch;justify-content: center;background-color: white;}#sk-9be1aea5-3ebd-486c-a13d-1a7342e50288 div.sk-parallel::before {content: \"\";position: absolute;border-left: 1px solid gray;box-sizing: border-box;top: 2em;bottom: 0;left: 50%;}#sk-9be1aea5-3ebd-486c-a13d-1a7342e50288 div.sk-parallel-item {display: flex;flex-direction: column;position: relative;background-color: white;}#sk-9be1aea5-3ebd-486c-a13d-1a7342e50288 div.sk-parallel-item:first-child::after {align-self: flex-end;width: 50%;}#sk-9be1aea5-3ebd-486c-a13d-1a7342e50288 div.sk-parallel-item:last-child::after {align-self: flex-start;width: 50%;}#sk-9be1aea5-3ebd-486c-a13d-1a7342e50288 div.sk-parallel-item:only-child::after {width: 0;}#sk-9be1aea5-3ebd-486c-a13d-1a7342e50288 div.sk-dashed-wrapped {border: 1px dashed gray;margin: 0 0.4em 0.5em 0.4em;box-sizing: border-box;padding-bottom: 0.4em;background-color: white;position: relative;}#sk-9be1aea5-3ebd-486c-a13d-1a7342e50288 div.sk-label label {font-family: monospace;font-weight: bold;background-color: white;display: inline-block;line-height: 1.2em;}#sk-9be1aea5-3ebd-486c-a13d-1a7342e50288 div.sk-label-container {position: relative;z-index: 2;text-align: center;}#sk-9be1aea5-3ebd-486c-a13d-1a7342e50288 div.sk-container {/* jupyter's `normalize.less` sets `[hidden] { display: none; }` but bootstrap.min.css set `[hidden] { display: none !important; }` so we also need the `!important` here to be able to override the default hidden behavior on the sphinx rendered scikit-learn.org. See: https://github.com/scikit-learn/scikit-learn/issues/21755 */display: inline-block !important;position: relative;}#sk-9be1aea5-3ebd-486c-a13d-1a7342e50288 div.sk-text-repr-fallback {display: none;}</style><div id=\"sk-9be1aea5-3ebd-486c-a13d-1a7342e50288\" class=\"sk-top-container\"><div class=\"sk-text-repr-fallback\"><pre>BaggingRegressor(random_state=42)</pre><b>Please rerun this cell to show the HTML repr or trust the notebook.</b></div><div class=\"sk-container\" hidden><div class=\"sk-item\"><div class=\"sk-estimator sk-toggleable\"><input class=\"sk-toggleable__control sk-hidden--visually\" id=\"6d465fc5-77ce-4c96-af83-686392240e06\" type=\"checkbox\" checked><label for=\"6d465fc5-77ce-4c96-af83-686392240e06\" class=\"sk-toggleable__label sk-toggleable__label-arrow\">BaggingRegressor</label><div class=\"sk-toggleable__content\"><pre>BaggingRegressor(random_state=42)</pre></div></div></div></div></div>"
            ]
          },
          "metadata": {},
          "execution_count": 163
        }
      ]
    },
    {
      "cell_type": "code",
      "source": [
        "bagreg.predict(x_test_proces)"
      ],
      "metadata": {
        "colab": {
          "base_uri": "https://localhost:8080/"
        },
        "id": "Fb81i8n4lgKt",
        "outputId": "29b91e88-90f6-4cd1-ba97-e5318adf66bc"
      },
      "execution_count": 164,
      "outputs": [
        {
          "output_type": "execute_result",
          "data": {
            "text/plain": [
              "array([4377.9, 3521.6, 3991.3, ..., 2497.2, 4014.6, 1661.4])"
            ]
          },
          "metadata": {},
          "execution_count": 164
        }
      ]
    },
    {
      "cell_type": "code",
      "source": [
        "bagreg.predict(x_train_proces)"
      ],
      "metadata": {
        "colab": {
          "base_uri": "https://localhost:8080/"
        },
        "id": "A9jvk8-SlyRM",
        "outputId": "80a9dcc2-6b9b-4d5d-a362-99a8023e0530"
      },
      "execution_count": 165,
      "outputs": [
        {
          "output_type": "execute_result",
          "data": {
            "text/plain": [
              "array([ 616.63333333, 1805.3       , 6032.1       , ...,  545.7       ,\n",
              "       1587.5       , 3928.        ])"
            ]
          },
          "metadata": {},
          "execution_count": 165
        }
      ]
    },
    {
      "cell_type": "code",
      "source": [
        "#Evaluar el modelo\n",
        "bagreg_train_score = bagreg.score(x_train_proces, y_train)\n",
        "bagreg_test_score = bagreg.score(x_test_proces, y_test)\n",
        "\n",
        "print(bagreg_train_score)\n",
        "print(bagreg_test_score)"
      ],
      "metadata": {
        "colab": {
          "base_uri": "https://localhost:8080/"
        },
        "id": "tBJ9OTJMl72Q",
        "outputId": "a05392b6-f523-4f6d-9003-b4130173478f"
      },
      "execution_count": 166,
      "outputs": [
        {
          "output_type": "stream",
          "name": "stdout",
          "text": [
            "0.873731586020126\n",
            "0.31670881197424317\n"
          ]
        }
      ]
    },
    {
      "cell_type": "markdown",
      "source": [
        "**Modelo Bosques Aleatorios**"
      ],
      "metadata": {
        "id": "d3g1QKuCq1GB"
      }
    },
    {
      "cell_type": "code",
      "source": [
        "from sklearn.ensemble import RandomForestRegressor"
      ],
      "metadata": {
        "id": "1XKeWk6jq57q"
      },
      "execution_count": 167,
      "outputs": []
    },
    {
      "cell_type": "code",
      "source": [
        "#instanciar el modelo\n",
        "rf = RandomForestRegressor(random_state=42)"
      ],
      "metadata": {
        "id": "wavoh9HnrNuE"
      },
      "execution_count": 168,
      "outputs": []
    },
    {
      "cell_type": "code",
      "source": [
        "rf.fit(x_train_proces, y_train)"
      ],
      "metadata": {
        "colab": {
          "base_uri": "https://localhost:8080/",
          "height": 75
        },
        "id": "-77g1F97rZga",
        "outputId": "52e5b885-3d8c-4ecd-bd9d-4eb6a9f221ab"
      },
      "execution_count": 169,
      "outputs": [
        {
          "output_type": "execute_result",
          "data": {
            "text/plain": [
              "RandomForestRegressor(random_state=42)"
            ],
            "text/html": [
              "<style>#sk-bb27db08-0433-431f-b316-27e0a005cb6b {color: black;background-color: white;}#sk-bb27db08-0433-431f-b316-27e0a005cb6b pre{padding: 0;}#sk-bb27db08-0433-431f-b316-27e0a005cb6b div.sk-toggleable {background-color: white;}#sk-bb27db08-0433-431f-b316-27e0a005cb6b label.sk-toggleable__label {cursor: pointer;display: block;width: 100%;margin-bottom: 0;padding: 0.3em;box-sizing: border-box;text-align: center;}#sk-bb27db08-0433-431f-b316-27e0a005cb6b label.sk-toggleable__label-arrow:before {content: \"▸\";float: left;margin-right: 0.25em;color: #696969;}#sk-bb27db08-0433-431f-b316-27e0a005cb6b label.sk-toggleable__label-arrow:hover:before {color: black;}#sk-bb27db08-0433-431f-b316-27e0a005cb6b div.sk-estimator:hover label.sk-toggleable__label-arrow:before {color: black;}#sk-bb27db08-0433-431f-b316-27e0a005cb6b div.sk-toggleable__content {max-height: 0;max-width: 0;overflow: hidden;text-align: left;background-color: #f0f8ff;}#sk-bb27db08-0433-431f-b316-27e0a005cb6b div.sk-toggleable__content pre {margin: 0.2em;color: black;border-radius: 0.25em;background-color: #f0f8ff;}#sk-bb27db08-0433-431f-b316-27e0a005cb6b input.sk-toggleable__control:checked~div.sk-toggleable__content {max-height: 200px;max-width: 100%;overflow: auto;}#sk-bb27db08-0433-431f-b316-27e0a005cb6b input.sk-toggleable__control:checked~label.sk-toggleable__label-arrow:before {content: \"▾\";}#sk-bb27db08-0433-431f-b316-27e0a005cb6b div.sk-estimator input.sk-toggleable__control:checked~label.sk-toggleable__label {background-color: #d4ebff;}#sk-bb27db08-0433-431f-b316-27e0a005cb6b div.sk-label input.sk-toggleable__control:checked~label.sk-toggleable__label {background-color: #d4ebff;}#sk-bb27db08-0433-431f-b316-27e0a005cb6b input.sk-hidden--visually {border: 0;clip: rect(1px 1px 1px 1px);clip: rect(1px, 1px, 1px, 1px);height: 1px;margin: -1px;overflow: hidden;padding: 0;position: absolute;width: 1px;}#sk-bb27db08-0433-431f-b316-27e0a005cb6b div.sk-estimator {font-family: monospace;background-color: #f0f8ff;border: 1px dotted black;border-radius: 0.25em;box-sizing: border-box;margin-bottom: 0.5em;}#sk-bb27db08-0433-431f-b316-27e0a005cb6b div.sk-estimator:hover {background-color: #d4ebff;}#sk-bb27db08-0433-431f-b316-27e0a005cb6b div.sk-parallel-item::after {content: \"\";width: 100%;border-bottom: 1px solid gray;flex-grow: 1;}#sk-bb27db08-0433-431f-b316-27e0a005cb6b div.sk-label:hover label.sk-toggleable__label {background-color: #d4ebff;}#sk-bb27db08-0433-431f-b316-27e0a005cb6b div.sk-serial::before {content: \"\";position: absolute;border-left: 1px solid gray;box-sizing: border-box;top: 2em;bottom: 0;left: 50%;}#sk-bb27db08-0433-431f-b316-27e0a005cb6b div.sk-serial {display: flex;flex-direction: column;align-items: center;background-color: white;padding-right: 0.2em;padding-left: 0.2em;}#sk-bb27db08-0433-431f-b316-27e0a005cb6b div.sk-item {z-index: 1;}#sk-bb27db08-0433-431f-b316-27e0a005cb6b div.sk-parallel {display: flex;align-items: stretch;justify-content: center;background-color: white;}#sk-bb27db08-0433-431f-b316-27e0a005cb6b div.sk-parallel::before {content: \"\";position: absolute;border-left: 1px solid gray;box-sizing: border-box;top: 2em;bottom: 0;left: 50%;}#sk-bb27db08-0433-431f-b316-27e0a005cb6b div.sk-parallel-item {display: flex;flex-direction: column;position: relative;background-color: white;}#sk-bb27db08-0433-431f-b316-27e0a005cb6b div.sk-parallel-item:first-child::after {align-self: flex-end;width: 50%;}#sk-bb27db08-0433-431f-b316-27e0a005cb6b div.sk-parallel-item:last-child::after {align-self: flex-start;width: 50%;}#sk-bb27db08-0433-431f-b316-27e0a005cb6b div.sk-parallel-item:only-child::after {width: 0;}#sk-bb27db08-0433-431f-b316-27e0a005cb6b div.sk-dashed-wrapped {border: 1px dashed gray;margin: 0 0.4em 0.5em 0.4em;box-sizing: border-box;padding-bottom: 0.4em;background-color: white;position: relative;}#sk-bb27db08-0433-431f-b316-27e0a005cb6b div.sk-label label {font-family: monospace;font-weight: bold;background-color: white;display: inline-block;line-height: 1.2em;}#sk-bb27db08-0433-431f-b316-27e0a005cb6b div.sk-label-container {position: relative;z-index: 2;text-align: center;}#sk-bb27db08-0433-431f-b316-27e0a005cb6b div.sk-container {/* jupyter's `normalize.less` sets `[hidden] { display: none; }` but bootstrap.min.css set `[hidden] { display: none !important; }` so we also need the `!important` here to be able to override the default hidden behavior on the sphinx rendered scikit-learn.org. See: https://github.com/scikit-learn/scikit-learn/issues/21755 */display: inline-block !important;position: relative;}#sk-bb27db08-0433-431f-b316-27e0a005cb6b div.sk-text-repr-fallback {display: none;}</style><div id=\"sk-bb27db08-0433-431f-b316-27e0a005cb6b\" class=\"sk-top-container\"><div class=\"sk-text-repr-fallback\"><pre>RandomForestRegressor(random_state=42)</pre><b>Please rerun this cell to show the HTML repr or trust the notebook.</b></div><div class=\"sk-container\" hidden><div class=\"sk-item\"><div class=\"sk-estimator sk-toggleable\"><input class=\"sk-toggleable__control sk-hidden--visually\" id=\"55d951bb-2ac0-4845-8dca-490b8b7dc947\" type=\"checkbox\" checked><label for=\"55d951bb-2ac0-4845-8dca-490b8b7dc947\" class=\"sk-toggleable__label sk-toggleable__label-arrow\">RandomForestRegressor</label><div class=\"sk-toggleable__content\"><pre>RandomForestRegressor(random_state=42)</pre></div></div></div></div></div>"
            ]
          },
          "metadata": {},
          "execution_count": 169
        }
      ]
    },
    {
      "cell_type": "code",
      "source": [
        "rf_preds= rf.predict(x_test_proces)\n",
        "rf_train_preds =  rf.predict(x_train_proces)"
      ],
      "metadata": {
        "id": "bywLMVMMsaGd"
      },
      "execution_count": 180,
      "outputs": []
    },
    {
      "cell_type": "code",
      "source": [
        "#Evaluación del modelo\n",
        "rf_train_score = rf.score(x_train_proces, y_train)\n",
        "rf_test_score = rf.score(x_test_proces, y_test)\n",
        "\n",
        "print(rf_train_score)\n",
        "print(rf_test_score)"
      ],
      "metadata": {
        "colab": {
          "base_uri": "https://localhost:8080/"
        },
        "id": "Mrxh0qJ6suCW",
        "outputId": "3c9bbe26-6522-4750-9387-35deac1de062"
      },
      "execution_count": 174,
      "outputs": [
        {
          "output_type": "stream",
          "name": "stdout",
          "text": [
            "0.9059128112063206\n",
            "0.3741610736544919\n"
          ]
        }
      ]
    },
    {
      "cell_type": "markdown",
      "source": [
        "con el modelo de bosques aleatorios, mejoró el score del train y el test\n",
        "\n",
        "**Este ha sido el mejor modelo de prediction para este conjunto de datos**"
      ],
      "metadata": {
        "id": "vldedYJUtOl7"
      }
    }
  ]
}